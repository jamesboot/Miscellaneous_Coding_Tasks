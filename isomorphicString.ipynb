{
 "cells": [
  {
   "cell_type": "markdown",
   "metadata": {},
   "source": [
    "## Isomorphic String\n",
    "\n",
    "Given two strings `s` and `t`, determine if they are isomorphic.\n",
    "\n",
    "Two strings `s` and `t` are isomorphic if the characters in `s` can be replaced to get `t`.\n",
    "\n",
    "All occurrences of a character must be replaced with another character while preserving the order of characters. No two characters may map to the same character, but a character may map to itself.\n",
    "\n",
    "#### Example 1:\n",
    "\n",
    "Input: `s = \"egg\", t = \"add\"`\n",
    "\n",
    "Output: `true`\n",
    "\n",
    "#### Example 2:\n",
    "\n",
    "Input: `s = \"foo\", t = \"bar\"`\n",
    "\n",
    "Output: `false`\n",
    "\n",
    "#### Example 3:\n",
    "\n",
    "Input: `s = \"paper\", t = \"title\"`\n",
    "\n",
    "Output: `true`"
   ]
  },
  {
   "cell_type": "code",
   "execution_count": 3,
   "metadata": {},
   "outputs": [],
   "source": [
    "def isIsomorphic(s, t):\n",
    "\n",
    "    sList = list(s)\n",
    "    tList = list(t)\n",
    "\n",
    "    map = {}\n",
    "    newStr = ''\n",
    "\n",
    "    for x in range(len(sList)):\n",
    "        if sList[x] not in map.keys() and tList[x] not in map.values():\n",
    "            map[sList[x]] = tList[x]\n",
    "            newStr += map[sList[x]]\n",
    "        elif sList[x] in map.keys() and tList[x] not in map.values():\n",
    "            newStr += 'ERROR'\n",
    "        elif sList[x] in map.keys() and tList[x] in map.values():\n",
    "            newStr += map[sList[x]]\n",
    "\n",
    "    if newStr == t:\n",
    "        return True\n",
    "    else:\n",
    "        return False\n",
    "\n"
   ]
  },
  {
   "cell_type": "code",
   "execution_count": 5,
   "metadata": {},
   "outputs": [
    {
     "data": {
      "text/plain": [
       "True"
      ]
     },
     "execution_count": 5,
     "metadata": {},
     "output_type": "execute_result"
    }
   ],
   "source": [
    "s = 'paper'\n",
    "t = 'title'\n",
    "\n",
    "isIsomorphic(s, t)"
   ]
  }
 ],
 "metadata": {
  "kernelspec": {
   "display_name": "base",
   "language": "python",
   "name": "python3"
  },
  "language_info": {
   "codemirror_mode": {
    "name": "ipython",
    "version": 3
   },
   "file_extension": ".py",
   "mimetype": "text/x-python",
   "name": "python",
   "nbconvert_exporter": "python",
   "pygments_lexer": "ipython3",
   "version": "3.11.7"
  }
 },
 "nbformat": 4,
 "nbformat_minor": 2
}
