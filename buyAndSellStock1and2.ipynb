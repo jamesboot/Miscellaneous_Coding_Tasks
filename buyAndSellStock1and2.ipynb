{
 "cells": [
  {
   "cell_type": "markdown",
   "metadata": {},
   "source": [
    "## Best Time to Buy and Sell Stock\n",
    "\n",
    "You are given an array `prices` where `prices[i]` is the price of a given stock on the `ith` day.\n",
    "\n",
    "You want to maximize your profit by choosing a single day to buy one stock and choosing a different day in the future to sell that stock.\n",
    "\n",
    "Return the maximum profit you can achieve from this transaction. If you cannot achieve any profit, return `0`.\n",
    "\n",
    "#### Example 1:\n",
    "\n",
    "Input: `prices = [7,1,5,3,6,4]`\n",
    "\n",
    "Output: `5`\n",
    "\n",
    "Explanation: \n",
    "- Buy on day 2 (price = 1) and sell on day 5 (price = 6), profit = 6-1 = 5.\n",
    "- Note that buying on day 2 and selling on day 1 is not allowed because you must buy before you sell."
   ]
  },
  {
   "cell_type": "code",
   "execution_count": 14,
   "metadata": {},
   "outputs": [],
   "source": [
    "def maxProfit(prices):\n",
    "    pricesSort = prices.copy()\n",
    "    pricesSort.sort(reverse=True)\n",
    "    if prices == pricesSort:\n",
    "        return 0\n",
    "    else:\n",
    "        profit = []\n",
    "        for i in range(len(prices)-1):\n",
    "            dayPrice = prices[i]\n",
    "            allOtherPrices = prices[i+1:]\n",
    "            profit.append(max(allOtherPrices) - dayPrice)\n",
    "        return max(profit)"
   ]
  },
  {
   "cell_type": "code",
   "execution_count": 15,
   "metadata": {},
   "outputs": [
    {
     "data": {
      "text/plain": [
       "0"
      ]
     },
     "execution_count": 15,
     "metadata": {},
     "output_type": "execute_result"
    }
   ],
   "source": [
    "prices = [7,6,4]\n",
    "maxProfit(prices)"
   ]
  },
  {
   "cell_type": "markdown",
   "metadata": {},
   "source": [
    "## Best Time to Buy and Sell Stock 2\n",
    "\n",
    "You are given an integer array `prices` where `prices[i]` is the price of a given stock on the `ith` day.\n",
    "\n",
    "On each day, you may decide to buy and/or sell the stock. You can only hold at most one share of the stock at any time. However, you can buy it then immediately sell it on the same day.\n",
    "\n",
    "Find and return the maximum profit you can achieve.\n",
    "\n",
    "On each day, you may decide to buy and/or sell the stock. You can only hold at most one share of the stock at any time. However, you can buy it then immediately sell it on the same day.\n",
    "\n",
    "Find and return the maximum profit you can achieve.\n",
    "\n",
    "#### Example 1:\n",
    "\n",
    "Input: `prices = [7,1,5,3,6,4]`\n",
    "\n",
    "Output: `7`\n",
    "\n",
    "Explanation: \n",
    "- Buy on day 2 (price = 1) and sell on day 3 (price = 5), profit = 5-1 = 4.\n",
    "- Then buy on day 4 (price = 3) and sell on day 5 (price = 6), profit = 6-3 = 3.\n",
    "- Total profit is 4 + 3 = 7.\n"
   ]
  },
  {
   "cell_type": "code",
   "execution_count": 9,
   "metadata": {},
   "outputs": [],
   "source": [
    "# Calculate the adjacent differences\n",
    "\n",
    "def maxProfit2(prices):\n",
    "\n",
    "    left = 0\n",
    "    right = 1\n",
    "    diffs = []\n",
    "\n",
    "    while right < len(prices):\n",
    "        diffs.append(prices[right]-prices[left])\n",
    "        left += 1\n",
    "        right += 1\n",
    "\n",
    "    profits = [i for i in diffs if i > 0]\n",
    "\n",
    "    if len(profits) == 0:\n",
    "        return 0\n",
    "    else:\n",
    "        return sum(profits)"
   ]
  },
  {
   "cell_type": "code",
   "execution_count": 10,
   "metadata": {},
   "outputs": [
    {
     "data": {
      "text/plain": [
       "0"
      ]
     },
     "execution_count": 10,
     "metadata": {},
     "output_type": "execute_result"
    }
   ],
   "source": [
    "prices = [7,6,4,3,1]\n",
    "maxProfit2(prices)"
   ]
  }
 ],
 "metadata": {
  "kernelspec": {
   "display_name": "base",
   "language": "python",
   "name": "python3"
  },
  "language_info": {
   "codemirror_mode": {
    "name": "ipython",
    "version": 3
   },
   "file_extension": ".py",
   "mimetype": "text/x-python",
   "name": "python",
   "nbconvert_exporter": "python",
   "pygments_lexer": "ipython3",
   "version": "3.11.7"
  }
 },
 "nbformat": 4,
 "nbformat_minor": 2
}
