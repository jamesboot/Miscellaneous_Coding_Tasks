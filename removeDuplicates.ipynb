{
 "cells": [
  {
   "cell_type": "markdown",
   "metadata": {},
   "source": [
    "## Remove Duplicates from Sorted Array\n",
    "\n",
    "Given an integer array `nums` sorted in non-decreasing order, remove the duplicates in-place such that each unique element appears only once. The relative order of the elements should be kept the same. Then return the number of unique elements in `nums`.\n",
    "\n",
    "Consider the number of unique elements of nums to be `k`, to get accepted, you need to do the following things:\n",
    "- Change the array nums such that the first `k` elements of nums contain the unique elements in the order they were present in `nums` initially. \n",
    "- The remaining elements of `nums` are not important as well as the size of `nums`.\n",
    "- Return `k`\n",
    "\n",
    "#### Example 1:\n",
    "\n",
    "Input: `nums = [1,1,2]`\n",
    "\n",
    "Output: `2, nums = [1,2,_]`\n",
    "\n",
    "Explanation: \n",
    "- Your function should return k = 2, with the first two elements of nums being 1 and 2 respectively.\n",
    "- It does not matter what you leave beyond the returned k (hence they are underscores).\n",
    "\n",
    "#### Example 2:\n",
    "\n",
    "Input: `nums = [0,0,1,1,1,2,2,3,3,4]`\n",
    "\n",
    "Output: `5, nums = [0,1,2,3,4,_,_,_,_,_]`\n",
    "\n",
    "Explanation: \n",
    "- Your function should return k = 5, with the first five elements of nums being 0, 1, 2, 3, and 4 respectively.\n",
    "- It does not matter what you leave beyond the returned k (hence they are underscores)."
   ]
  },
  {
   "cell_type": "code",
   "execution_count": 6,
   "metadata": {},
   "outputs": [],
   "source": [
    "def removeDuplicates(nums):\n",
    "    start = 0\n",
    "    next = start + 1\n",
    "\n",
    "    while next < len(nums):\n",
    "        if nums[start] == nums[next]:\n",
    "            nums.pop(next)\n",
    "        elif nums[start] != nums[next]:\n",
    "            start += 1\n",
    "            next += 1\n",
    "\n",
    "    return len(nums)\n",
    "\n"
   ]
  },
  {
   "cell_type": "code",
   "execution_count": 7,
   "metadata": {},
   "outputs": [
    {
     "data": {
      "text/plain": [
       "5"
      ]
     },
     "execution_count": 7,
     "metadata": {},
     "output_type": "execute_result"
    }
   ],
   "source": [
    "nums = [0,0,1,1,1,2,2,3,3,4]\n",
    "removeDuplicates(nums)\n"
   ]
  }
 ],
 "metadata": {
  "kernelspec": {
   "display_name": "base",
   "language": "python",
   "name": "python3"
  },
  "language_info": {
   "codemirror_mode": {
    "name": "ipython",
    "version": 3
   },
   "file_extension": ".py",
   "mimetype": "text/x-python",
   "name": "python",
   "nbconvert_exporter": "python",
   "pygments_lexer": "ipython3",
   "version": "3.11.7"
  }
 },
 "nbformat": 4,
 "nbformat_minor": 2
}
