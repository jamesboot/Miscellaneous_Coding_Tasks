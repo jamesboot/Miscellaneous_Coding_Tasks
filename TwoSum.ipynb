{
 "cells": [
  {
   "cell_type": "markdown",
   "metadata": {},
   "source": [
    "## Two Sum\n",
    "\n",
    "Given an array of integers `nums` and an integer `target`, return indices of the two numbers such that they add up to target.\n",
    "You may assume that each input would have exactly one solution, and you may not use the same element twice.\n",
    "\n",
    "You can return the answer in any order.\n",
    "\n",
    "##### Example 1:\n",
    "\n",
    "Input: `nums = [2,7,11,15], target = 9`\n",
    "\n",
    "Output: `[0,1]`\n",
    "\n",
    "Explanation: Because `nums[0] + nums[1] == 9`, we return `[0, 1]`.\n",
    "\n",
    "#### Example 2:\n",
    "\n",
    "Input: `nums = [3,2,4], target = 6`\n",
    "\n",
    "Output: `[1,2]`\n",
    "\n",
    "#### Example 3:\n",
    "\n",
    "Input: `nums = [3,3], target = 6`\n",
    "\n",
    "Output: `[0,1]`\n"
   ]
  },
  {
   "cell_type": "code",
   "execution_count": 23,
   "metadata": {},
   "outputs": [
    {
     "name": "stdout",
     "output_type": "stream",
     "text": [
      "[0, 1]\n",
      "--- 0.00032591819763183594 seconds ---\n"
     ]
    }
   ],
   "source": [
    "import time\n",
    "\n",
    "def twoSum(nums, target):\n",
    "    \n",
    "    hashMap = {}\n",
    "\n",
    "    for x in range(len(nums)):\n",
    "        hashMap[nums[x]] = x\n",
    "\n",
    "    for x in range(len(nums)):\n",
    "        diff = target - nums[x]\n",
    "        if diff in hashMap and hashMap[diff] != x:\n",
    "            return [x, hashMap[diff]]\n",
    "\n",
    "    return []\n",
    "\n",
    "start_time = time.time()\n",
    "print(twoSum(nums = [2,7,11,15], target = 9))\n",
    "print(\"--- %s seconds ---\" % (time.time() - start_time))\n"
   ]
  },
  {
   "cell_type": "code",
   "execution_count": 28,
   "metadata": {},
   "outputs": [
    {
     "name": "stdout",
     "output_type": "stream",
     "text": [
      "[0, 1]\n",
      "--- 0.00014591217041015625 seconds ---\n"
     ]
    }
   ],
   "source": [
    "def twoSum(nums, target: int):\n",
    "    \n",
    "    for i in range(len(nums)):\n",
    "        \n",
    "        for j in range(i+1, len(nums)):\n",
    "            \n",
    "            if nums[i] + nums[j] == target:\n",
    "                \n",
    "                return [i,j]\n",
    "\n",
    "start_time = time.time()\n",
    "print(twoSum(nums = [2,7,11,15], target = 9))\n",
    "print(\"--- %s seconds ---\" % (time.time() - start_time))"
   ]
  },
  {
   "cell_type": "code",
   "execution_count": 29,
   "metadata": {},
   "outputs": [
    {
     "data": {
      "text/plain": [
       "True"
      ]
     },
     "execution_count": 29,
     "metadata": {},
     "output_type": "execute_result"
    }
   ],
   "source": [
    "2 in [1,2,3]"
   ]
  }
 ],
 "metadata": {
  "kernelspec": {
   "display_name": "Python 3",
   "language": "python",
   "name": "python3"
  },
  "language_info": {
   "codemirror_mode": {
    "name": "ipython",
    "version": 3
   },
   "file_extension": ".py",
   "mimetype": "text/x-python",
   "name": "python",
   "nbconvert_exporter": "python",
   "pygments_lexer": "ipython3",
   "version": "3.11.5"
  }
 },
 "nbformat": 4,
 "nbformat_minor": 2
}
