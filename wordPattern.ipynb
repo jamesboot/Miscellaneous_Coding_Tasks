{
 "cells": [
  {
   "cell_type": "markdown",
   "metadata": {},
   "source": [
    "## Word Pattern\n",
    "\n",
    "Given a `pattern` and a string `s`, find if `s` follows the same pattern.\n",
    "\n",
    "Here follow means a full match, such that there is a bijection between a letter in `pattern` and a non-empty word in `s`.\n",
    "\n",
    "#### Example 1:\n",
    "\n",
    "Input: `pattern = \"abba\", s = \"dog cat cat dog\"`\n",
    "\n",
    "Output: `true`\n",
    "\n",
    "#### Example 2:\n",
    "\n",
    "Input: `pattern = \"abba\", s = \"dog cat cat fish\"`\n",
    "\n",
    "Output: `false`\n",
    "\n",
    "#### Example 3:\n",
    "\n",
    "Input: `pattern = \"aaaa\", s = \"dog cat cat dog\"`\n",
    "\n",
    "Output: `false`"
   ]
  },
  {
   "cell_type": "code",
   "execution_count": 45,
   "metadata": {},
   "outputs": [],
   "source": [
    "def wordPattern(pattern, s):\n",
    "\n",
    "    patternList = list(pattern)\n",
    "    #print(patternList)\n",
    "    sList = s.split(' ')\n",
    "    #print(sList)\n",
    "\n",
    "    map = {}\n",
    "    newpattern = ''\n",
    "    \n",
    "    if len(patternList) == len(sList):\n",
    "        for i in range(len(sList)):\n",
    "            if sList[i] not in map.keys() and patternList[i] not in map.values():\n",
    "                map[sList[i]] = patternList[i]\n",
    "                newpattern += map[sList[i]]\n",
    "                #print(newpattern)\n",
    "            elif sList[i] not in map.keys() and patternList[i] in map.values():\n",
    "                map[sList[i]] = 'NEWVALUE'\n",
    "                newpattern += map[sList[i]]\n",
    "                #print(newpattern)\n",
    "            elif  sList[i] in map.keys() and patternList[i] in map.values():\n",
    "                newpattern += map[sList[i]]\n",
    "                #print(newpattern)\n",
    "        if pattern == newpattern:\n",
    "            return True\n",
    "        else:\n",
    "            return False\n",
    "    else:\n",
    "        return False\n",
    "        "
   ]
  },
  {
   "cell_type": "code",
   "execution_count": 46,
   "metadata": {},
   "outputs": [
    {
     "name": "stdout",
     "output_type": "stream",
     "text": [
      "['d', 'e', 'a', 'd', 'b', 'e', 'e', 'f']\n",
      "['d', 'e', 'a', 'd', 'b', 'e', 'e', 'f']\n",
      "d\n",
      "de\n",
      "dea\n",
      "dead\n",
      "deadb\n",
      "deadbe\n",
      "deadbee\n",
      "deadbeef\n"
     ]
    },
    {
     "data": {
      "text/plain": [
       "True"
      ]
     },
     "execution_count": 46,
     "metadata": {},
     "output_type": "execute_result"
    }
   ],
   "source": [
    "pattern = 'deadbeef'\n",
    "s = 'd e a d b e e f'\n",
    "\n",
    "wordPattern(pattern=pattern, s=s)"
   ]
  },
  {
   "cell_type": "code",
   "execution_count": 47,
   "metadata": {},
   "outputs": [
    {
     "name": "stdout",
     "output_type": "stream",
     "text": [
      "['a', 'b', 'b', 'a']\n",
      "['dog', 'cat', 'cat', 'fish']\n",
      "a\n",
      "ab\n",
      "abb\n",
      "abbNEWVALUE\n"
     ]
    },
    {
     "data": {
      "text/plain": [
       "False"
      ]
     },
     "execution_count": 47,
     "metadata": {},
     "output_type": "execute_result"
    }
   ],
   "source": [
    "pattern = 'abba'\n",
    "s = 'dog cat cat fish'\n",
    "\n",
    "wordPattern(pattern=pattern, s=s)"
   ]
  }
 ],
 "metadata": {
  "kernelspec": {
   "display_name": "base",
   "language": "python",
   "name": "python3"
  },
  "language_info": {
   "codemirror_mode": {
    "name": "ipython",
    "version": 3
   },
   "file_extension": ".py",
   "mimetype": "text/x-python",
   "name": "python",
   "nbconvert_exporter": "python",
   "pygments_lexer": "ipython3",
   "version": "3.11.7"
  }
 },
 "nbformat": 4,
 "nbformat_minor": 2
}
