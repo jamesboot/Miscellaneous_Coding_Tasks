{
 "cells": [
  {
   "cell_type": "markdown",
   "metadata": {},
   "source": [
    "Write a solution to list the names of animals that weigh strictly more than 100 kilograms.\n",
    "\n",
    "Return the animals sorted by weight in descending order.\n",
    "\n",
    "The result format is in the following example.\n",
    "\n",
    "#### Example 1:\n",
    "\n",
    "Input:\n",
    "``` \n",
    "DataFrame animals:\n",
    "+----------+---------+-----+--------+\n",
    "| name     | species | age | weight |\n",
    "+----------+---------+-----+--------+\n",
    "| Tatiana  | Snake   | 98  | 464    |\n",
    "| Khaled   | Giraffe | 50  | 41     |\n",
    "| Alex     | Leopard | 6   | 328    |\n",
    "| Jonathan | Monkey  | 45  | 463    |\n",
    "| Stefan   | Bear    | 100 | 50     |\n",
    "| Tommy    | Panda   | 26  | 349    |\n",
    "+----------+---------+-----+--------+\n",
    "```\n",
    "Output: \n",
    "```\n",
    "+----------+\n",
    "| name     |\n",
    "+----------+\n",
    "| Tatiana  |\n",
    "| Jonathan |\n",
    "| Tommy    |\n",
    "| Alex     |\n",
    "+----------+\n",
    "```"
   ]
  },
  {
   "cell_type": "code",
   "execution_count": 1,
   "metadata": {},
   "outputs": [],
   "source": [
    "import pandas as pd"
   ]
  },
  {
   "cell_type": "code",
   "execution_count": 8,
   "metadata": {},
   "outputs": [
    {
     "data": {
      "text/html": [
       "<div>\n",
       "<style scoped>\n",
       "    .dataframe tbody tr th:only-of-type {\n",
       "        vertical-align: middle;\n",
       "    }\n",
       "\n",
       "    .dataframe tbody tr th {\n",
       "        vertical-align: top;\n",
       "    }\n",
       "\n",
       "    .dataframe thead th {\n",
       "        text-align: right;\n",
       "    }\n",
       "</style>\n",
       "<table border=\"1\" class=\"dataframe\">\n",
       "  <thead>\n",
       "    <tr style=\"text-align: right;\">\n",
       "      <th></th>\n",
       "      <th>name</th>\n",
       "    </tr>\n",
       "  </thead>\n",
       "  <tbody>\n",
       "    <tr>\n",
       "      <th>0</th>\n",
       "      <td>Tatiana</td>\n",
       "    </tr>\n",
       "    <tr>\n",
       "      <th>3</th>\n",
       "      <td>Jonathan</td>\n",
       "    </tr>\n",
       "    <tr>\n",
       "      <th>5</th>\n",
       "      <td>Tommy</td>\n",
       "    </tr>\n",
       "    <tr>\n",
       "      <th>2</th>\n",
       "      <td>Alex</td>\n",
       "    </tr>\n",
       "  </tbody>\n",
       "</table>\n",
       "</div>"
      ],
      "text/plain": [
       "       name\n",
       "0   Tatiana\n",
       "3  Jonathan\n",
       "5     Tommy\n",
       "2      Alex"
      ]
     },
     "execution_count": 8,
     "metadata": {},
     "output_type": "execute_result"
    }
   ],
   "source": [
    "list = [\n",
    "['Tatiana'  , 'Snake'  , 98  , 464],\n",
    "['Khaled'   , 'Giraffe' , 50  , 41],\n",
    "['Alex'     , 'Leopard' , 6   , 328],\n",
    "['Jonathan' , 'Monkey'  , 45  , 463],\n",
    "['Stefan'   , 'Bear'    , 100 , 50],\n",
    "['Tommy'    , 'Panda'   , 26  , 349],\n",
    "]\n",
    "\n",
    "df = pd.DataFrame(list, columns=['name', 'species', 'age', 'weight'])\n",
    "df2 = pd.DataFrame(df.query('weight > 100').sort_values('weight', ascending=False)['name'])\n",
    "df2.head()"
   ]
  }
 ],
 "metadata": {
  "kernelspec": {
   "display_name": "base",
   "language": "python",
   "name": "python3"
  },
  "language_info": {
   "codemirror_mode": {
    "name": "ipython",
    "version": 3
   },
   "file_extension": ".py",
   "mimetype": "text/x-python",
   "name": "python",
   "nbconvert_exporter": "python",
   "pygments_lexer": "ipython3",
   "version": "3.11.7"
  }
 },
 "nbformat": 4,
 "nbformat_minor": 2
}
