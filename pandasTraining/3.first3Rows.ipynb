{
 "cells": [
  {
   "cell_type": "markdown",
   "metadata": {},
   "source": [
    "Write a solution to display the first 3 rows of a DataFrame."
   ]
  },
  {
   "cell_type": "code",
   "execution_count": 1,
   "metadata": {},
   "outputs": [
    {
     "name": "stdout",
     "output_type": "stream",
     "text": [
      "   student_id  age\n",
      "0           1   15\n",
      "1           2   11\n",
      "2           3   11\n"
     ]
    }
   ],
   "source": [
    "import pandas as pd\n",
    "\n",
    "def createDataframe(student_data):\n",
    "    return pd.DataFrame(student_data, columns=['student_id', 'age'])\n",
    "\n",
    "student_data = [\n",
    "  [1, 15],\n",
    "  [2, 11],\n",
    "  [3, 11],\n",
    "  [4, 20]\n",
    "]\n",
    "\n",
    "df = createDataframe(student_data)\n",
    "\n",
    "def getDataframeSize(df):\n",
    "    return [df.shape[0], df.shape[1]]\n",
    "\n",
    "def selectFirstRows(df):\n",
    "    return df.head(3)\n",
    "\n",
    "print(selectFirstRows(df))"
   ]
  }
 ],
 "metadata": {
  "kernelspec": {
   "display_name": "base",
   "language": "python",
   "name": "python3"
  },
  "language_info": {
   "codemirror_mode": {
    "name": "ipython",
    "version": 3
   },
   "file_extension": ".py",
   "mimetype": "text/x-python",
   "name": "python",
   "nbconvert_exporter": "python",
   "pygments_lexer": "ipython3",
   "version": "3.11.7"
  }
 },
 "nbformat": 4,
 "nbformat_minor": 2
}
