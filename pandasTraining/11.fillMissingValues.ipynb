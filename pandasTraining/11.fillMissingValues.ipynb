{
 "cells": [
  {
   "cell_type": "markdown",
   "metadata": {},
   "source": [
    "```\n",
    "DataFrame products\n",
    "+-------------+--------+\n",
    "| Column Name | Type   |\n",
    "+-------------+--------+\n",
    "| name        | object |\n",
    "| quantity    | int    |\n",
    "| price       | int    |\n",
    "+-------------+--------+\n",
    "```\n",
    "\n",
    "Write a solution to fill in the missing value as 0 in the quantity column.\n",
    "\n",
    "The result format is in the following example.`"
   ]
  },
  {
   "cell_type": "code",
   "execution_count": 1,
   "metadata": {},
   "outputs": [],
   "source": [
    "import pandas as pd"
   ]
  },
  {
   "cell_type": "code",
   "execution_count": 9,
   "metadata": {},
   "outputs": [
    {
     "data": {
      "text/html": [
       "<div>\n",
       "<style scoped>\n",
       "    .dataframe tbody tr th:only-of-type {\n",
       "        vertical-align: middle;\n",
       "    }\n",
       "\n",
       "    .dataframe tbody tr th {\n",
       "        vertical-align: top;\n",
       "    }\n",
       "\n",
       "    .dataframe thead th {\n",
       "        text-align: right;\n",
       "    }\n",
       "</style>\n",
       "<table border=\"1\" class=\"dataframe\">\n",
       "  <thead>\n",
       "    <tr style=\"text-align: right;\">\n",
       "      <th></th>\n",
       "      <th>name</th>\n",
       "      <th>quantity</th>\n",
       "      <th>price</th>\n",
       "    </tr>\n",
       "  </thead>\n",
       "  <tbody>\n",
       "    <tr>\n",
       "      <th>0</th>\n",
       "      <td>Wristwatch</td>\n",
       "      <td>0.0</td>\n",
       "      <td>135</td>\n",
       "    </tr>\n",
       "    <tr>\n",
       "      <th>1</th>\n",
       "      <td>WirelessEarbuds</td>\n",
       "      <td>0.0</td>\n",
       "      <td>821</td>\n",
       "    </tr>\n",
       "    <tr>\n",
       "      <th>2</th>\n",
       "      <td>GolfClubs</td>\n",
       "      <td>779.0</td>\n",
       "      <td>9319</td>\n",
       "    </tr>\n",
       "    <tr>\n",
       "      <th>3</th>\n",
       "      <td>Printer</td>\n",
       "      <td>849.0</td>\n",
       "      <td>3051</td>\n",
       "    </tr>\n",
       "  </tbody>\n",
       "</table>\n",
       "</div>"
      ],
      "text/plain": [
       "              name  quantity  price\n",
       "0       Wristwatch       0.0    135\n",
       "1  WirelessEarbuds       0.0    821\n",
       "2        GolfClubs     779.0   9319\n",
       "3          Printer     849.0   3051"
      ]
     },
     "execution_count": 9,
     "metadata": {},
     "output_type": "execute_result"
    }
   ],
   "source": [
    "list =[\n",
    "    ['Wristwatch'      , None     , 135   ],\n",
    "['WirelessEarbuds' , None     , 821   ],\n",
    "['GolfClubs'       , 779      , 9319  ],\n",
    "['Printer'         , 849      , 3051  ]\n",
    "]\n",
    "\n",
    "df = pd.DataFrame(list, columns=['name', 'quantity', 'price'])\n",
    "df['quantity'] = df['quantity'].fillna(0)\n",
    "df.head()\n"
   ]
  }
 ],
 "metadata": {
  "kernelspec": {
   "display_name": "base",
   "language": "python",
   "name": "python3"
  },
  "language_info": {
   "codemirror_mode": {
    "name": "ipython",
    "version": 3
   },
   "file_extension": ".py",
   "mimetype": "text/x-python",
   "name": "python",
   "nbconvert_exporter": "python",
   "pygments_lexer": "ipython3",
   "version": "3.11.7"
  }
 },
 "nbformat": 4,
 "nbformat_minor": 2
}
