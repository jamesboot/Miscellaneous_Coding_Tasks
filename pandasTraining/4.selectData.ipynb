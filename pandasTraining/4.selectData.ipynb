{
 "cells": [
  {
   "cell_type": "markdown",
   "metadata": {},
   "source": [
    "Write a solution to select the name and age of the student with student_id = 101.\n",
    "\n",
    "The result format is in the following example."
   ]
  },
  {
   "cell_type": "code",
   "execution_count": null,
   "metadata": {},
   "outputs": [],
   "source": [
    "import pandas as pd\n",
    "\n",
    "def createDataframe(student_data):\n",
    "    return pd.DataFrame(student_data, columns=['student_id', 'age'])\n",
    "\n",
    "student_data = [\n",
    "  [1, 15],\n",
    "  [2, 11],\n",
    "  [3, 11],\n",
    "  [4, 20]\n",
    "]\n",
    "\n",
    "df = createDataframe(student_data)\n",
    "\n",
    "def getDataframeSize(df):\n",
    "    return [df.shape[0], df.shape[1]]\n",
    "\n",
    "def selectFirstRows(df):\n",
    "    return df.head(3)\n",
    "\n",
    "print(selectFirstRows(df))"
   ]
  }
 ],
 "metadata": {
  "language_info": {
   "name": "python"
  }
 },
 "nbformat": 4,
 "nbformat_minor": 2
}
