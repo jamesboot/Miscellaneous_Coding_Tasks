{
 "cells": [
  {
   "cell_type": "markdown",
   "metadata": {},
   "source": [
    "Write a solution to select the name and age of the student with student_id = 101.\n",
    "\n",
    "The result format is in the following example."
   ]
  },
  {
   "cell_type": "code",
   "execution_count": 6,
   "metadata": {},
   "outputs": [
    {
     "name": "stdout",
     "output_type": "stream",
     "text": [
      "      name  age\n",
      "4  William   16\n"
     ]
    }
   ],
   "source": [
    "import pandas as pd\n",
    "\n",
    "def createDataframe(student_data):\n",
    "    return pd.DataFrame(student_data, columns=['student_id', 'age','name'])\n",
    "\n",
    "student_data = [\n",
    "  [1, 15, 'Adam'],\n",
    "  [2, 11, 'Peter'],\n",
    "  [3, 11, 'Harry'],\n",
    "  [4, 20, 'Henry'],\n",
    "  [101, 16, 'William']\n",
    "]\n",
    "\n",
    "df = createDataframe(student_data)\n",
    "\n",
    "def getDataframeSize(df):\n",
    "    return [df.shape[0], df.shape[1]]\n",
    "\n",
    "def selectFirstRows(df):\n",
    "    return df.head(3)\n",
    "\n",
    "def selectData(df):\n",
    "    return df.query(\"student_id == 101\")[['name', 'age']]\n",
    "\n",
    "print(selectData(df)) # Expected answer William 16"
   ]
  }
 ],
 "metadata": {
  "kernelspec": {
   "display_name": "base",
   "language": "python",
   "name": "python3"
  },
  "language_info": {
   "codemirror_mode": {
    "name": "ipython",
    "version": 3
   },
   "file_extension": ".py",
   "mimetype": "text/x-python",
   "name": "python",
   "nbconvert_exporter": "python",
   "pygments_lexer": "ipython3",
   "version": "3.11.7"
  }
 },
 "nbformat": 4,
 "nbformat_minor": 2
}
