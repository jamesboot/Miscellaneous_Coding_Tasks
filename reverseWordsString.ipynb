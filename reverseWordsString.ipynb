{
 "cells": [
  {
   "cell_type": "markdown",
   "metadata": {},
   "source": [
    "## Reverse Words in a String\n",
    "\n",
    "Given an input string `s`, reverse the order of the words.\n",
    "\n",
    "A word is defined as a sequence of non-space characters. The words in `s` will be separated by at least one space.\n",
    "\n",
    "Return a string of the words in reverse order concatenated by a single space.\n",
    "\n",
    "Note that `s` may contain leading or trailing spaces or multiple spaces between two words. The returned string should only have a single space separating the words. Do not include any extra spaces.\n",
    "\n",
    "#### Example 1:\n",
    "\n",
    "Input: `s = \"the sky is blue\"`\n",
    "\n",
    "Output: `\"blue is sky the\"`\n",
    "\n",
    "#### Example 2:\n",
    "\n",
    "Input: `s = \"  hello world  \"`\n",
    "\n",
    "Output: `\"world hello\"`\n",
    "\n",
    "Explanation: \n",
    "- Your reversed string should not contain leading or trailing spaces.\n",
    "\n",
    "#### Example 3:\n",
    "\n",
    "Input: `s = \"a good   example\"`\n",
    "\n",
    "Output: `\"example good a\"`\n",
    "\n",
    "Explanation: \n",
    "- You need to reduce multiple spaces between two words to a single space in the reversed string."
   ]
  },
  {
   "cell_type": "code",
   "execution_count": 29,
   "metadata": {},
   "outputs": [],
   "source": [
    "def reverseWords(s):\n",
    "\n",
    "    sStrip = list(s.strip())\n",
    "    start = 0\n",
    "    end = start + 1\n",
    "\n",
    "    while end < len(sStrip):\n",
    "        if sStrip[start] == ' ' and sStrip[end] == ' ':\n",
    "            sStrip.pop(end)\n",
    "        else:\n",
    "            start += 1\n",
    "            end += 1\n",
    "\n",
    "    words = ''.join(sStrip)\n",
    "    words = words.split(' ')\n",
    "    words.reverse()\n",
    "    return ' '.join(words)"
   ]
  },
  {
   "cell_type": "code",
   "execution_count": 31,
   "metadata": {},
   "outputs": [
    {
     "data": {
      "text/plain": [
       "'example good a'"
      ]
     },
     "execution_count": 31,
     "metadata": {},
     "output_type": "execute_result"
    }
   ],
   "source": [
    "s = 'a good   example'\n",
    "#s = ' hello world '\n",
    "reverseWords(s)"
   ]
  }
 ],
 "metadata": {
  "kernelspec": {
   "display_name": "base",
   "language": "python",
   "name": "python3"
  },
  "language_info": {
   "codemirror_mode": {
    "name": "ipython",
    "version": 3
   },
   "file_extension": ".py",
   "mimetype": "text/x-python",
   "name": "python",
   "nbconvert_exporter": "python",
   "pygments_lexer": "ipython3",
   "version": "3.11.7"
  }
 },
 "nbformat": 4,
 "nbformat_minor": 2
}
