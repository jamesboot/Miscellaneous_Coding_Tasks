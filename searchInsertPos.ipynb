{
 "cells": [
  {
   "cell_type": "markdown",
   "metadata": {},
   "source": [
    "## Search Insert Position\n",
    "\n",
    "https://leetcode.com/problems/search-insert-position/description/\n",
    "\n",
    "Given a sorted array of distinct integers and a target value, return the index if the target is found. If not, return the index where it would be if it were inserted in order.\n",
    "\n",
    "#### Example 1:\n",
    "\n",
    "Input: `nums = [1,3,5,6], target = 5`\n",
    "\n",
    "Output: 2\n",
    "\n",
    "#### Example 2:\n",
    "\n",
    "Input: `nums = [1,3,5,6], target = 2`\n",
    "\n",
    "Output: `1`\n",
    "\n",
    "#### Example 3:\n",
    "\n",
    "Input: `nums = [1,3,5,6], target = 7`\n",
    "\n",
    "Output: `4`\n"
   ]
  },
  {
   "cell_type": "code",
   "execution_count": 19,
   "metadata": {},
   "outputs": [],
   "source": [
    "def searchInsert(nums, target):\n",
    "    test = nums.count(target)\n",
    "    if test > 0:\n",
    "        return nums.index(target)\n",
    "    else:\n",
    "        print('Number not found, searching...')\n",
    "        for i, n in enumerate(nums):\n",
    "            if target > nums[-1]:\n",
    "                return len(nums)\n",
    "            else:\n",
    "                if target > n:\n",
    "                    continue\n",
    "                elif target < n:\n",
    "                    return i\n",
    "                "
   ]
  },
  {
   "cell_type": "code",
   "execution_count": 21,
   "metadata": {},
   "outputs": [
    {
     "name": "stdout",
     "output_type": "stream",
     "text": [
      "Number not found, searching...\n"
     ]
    },
    {
     "data": {
      "text/plain": [
       "4"
      ]
     },
     "execution_count": 21,
     "metadata": {},
     "output_type": "execute_result"
    }
   ],
   "source": [
    "nums = [1,3,5,6]\n",
    "target = 7\n",
    "\n",
    "searchInsert(nums=nums, target=target)"
   ]
  }
 ],
 "metadata": {
  "kernelspec": {
   "display_name": "Python 3",
   "language": "python",
   "name": "python3"
  },
  "language_info": {
   "codemirror_mode": {
    "name": "ipython",
    "version": 3
   },
   "file_extension": ".py",
   "mimetype": "text/x-python",
   "name": "python",
   "nbconvert_exporter": "python",
   "pygments_lexer": "ipython3",
   "version": "3.11.5"
  }
 },
 "nbformat": 4,
 "nbformat_minor": 2
}
