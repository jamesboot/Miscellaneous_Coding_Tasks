{
 "cells": [
  {
   "cell_type": "markdown",
   "metadata": {},
   "source": [
    "## Remove Element\n",
    "\n",
    "Given an integer array `nums` and an integer `val`, remove all occurrences of `val` in `nums` in-place. The order of the elements may be changed. Then return the number of elements in `nums` which are not equal to `val`.\n",
    "\n",
    "Consider the number of elements in `nums` which are not equal to `val` be `k`, to get accepted, you need to do the following things:\n",
    "\n",
    "- Change the array `nums` such that the first `k` elements of `nums` contain the elements which are not equal to `val`. \n",
    "- The remaining elements of `nums` are not important as well as the size of `nums`.\n",
    "- Return `k`.\n",
    "\n",
    "#### Example 1:\n",
    "\n",
    "Input: `nums = [3,2,2,3], val = 3`\n",
    "\n",
    "Output: `2, nums = [2,2,_,_]`\n",
    "\n",
    "Explanation: \n",
    "- Your function should return k = 2, with the first two elements of nums being 2.\n",
    "- It does not matter what you leave beyond the returned k (hence they are underscores)."
   ]
  },
  {
   "cell_type": "code",
   "execution_count": 18,
   "metadata": {},
   "outputs": [],
   "source": [
    "def removeElement(nums, val):\n",
    "    \n",
    "    matches = sum([i==val for i in nums])\n",
    "    \n",
    "    while matches > 0:\n",
    "        loc = nums.index(val)\n",
    "        nums.pop(loc)\n",
    "        matches -= 1\n",
    "\n",
    "    return len(nums)"
   ]
  },
  {
   "cell_type": "code",
   "execution_count": 20,
   "metadata": {},
   "outputs": [
    {
     "name": "stdout",
     "output_type": "stream",
     "text": [
      "2\n",
      "2\n",
      "[2, 2]\n"
     ]
    }
   ],
   "source": [
    "nums = [3,2,2,3]\n",
    "val = 3\n",
    "\n",
    "print(removeElement(nums, val))\n",
    "print(nums)"
   ]
  }
 ],
 "metadata": {
  "kernelspec": {
   "display_name": "base",
   "language": "python",
   "name": "python3"
  },
  "language_info": {
   "codemirror_mode": {
    "name": "ipython",
    "version": 3
   },
   "file_extension": ".py",
   "mimetype": "text/x-python",
   "name": "python",
   "nbconvert_exporter": "python",
   "pygments_lexer": "ipython3",
   "version": "3.11.7"
  }
 },
 "nbformat": 4,
 "nbformat_minor": 2
}
