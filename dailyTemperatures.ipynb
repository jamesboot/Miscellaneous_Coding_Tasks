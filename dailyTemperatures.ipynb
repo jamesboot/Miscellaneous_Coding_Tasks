{
 "cells": [
  {
   "cell_type": "markdown",
   "metadata": {},
   "source": [
    "## Daily temperatures \n",
    "\n",
    "https://leetcode.com/problems/daily-temperatures/description/\n",
    "\n",
    "Given an array of integers temperatures represents the daily temperatures, return an array answer such that `answer[i]` is the number of days you have to wait after the `ith` day to get a warmer temperature. If there is no future day for which this is possible, keep `answer[i] == 0` instead.\n",
    "\n",
    "#### Example 1\n",
    "\n",
    "Input: `temperatures = [73,74,75,71,69,72,76,73]`\n",
    "\n",
    "Output: `[1,1,4,2,1,1,0,0]`\n",
    "\n",
    "#### Example 2\n",
    "Input: `temperatures = [30,40,50,60]`\n",
    "\n",
    "Output: `[1,1,1,0]`\n",
    "\n",
    "#### Example 3\n",
    "Input: `temperatures = [30,60,90]`\n",
    "\n",
    "Output: `[1,1,0]`"
   ]
  },
  {
   "cell_type": "code",
   "execution_count": 58,
   "metadata": {},
   "outputs": [],
   "source": [
    "def dailyTemperatures(temperatures):\n",
    "\n",
    "    results = []\n",
    "\n",
    "    for i in range(len(temperatures)-1):\n",
    "        ndays = 0\n",
    "        for j in range(i+1, len(temperatures)):\n",
    "            if temperatures[i] == max(temperatures):\n",
    "                results.append(0)\n",
    "                break\n",
    "            elif temperatures[i] < temperatures[j]:\n",
    "                results.append(ndays+1)\n",
    "                break\n",
    "            elif temperatures[i] > temperatures[j]:\n",
    "                ndays += 1\n",
    "                continue\n",
    "    \n",
    "    results.append(0)\n",
    "    return results\n",
    "\n",
    "    "
   ]
  },
  {
   "cell_type": "code",
   "execution_count": 59,
   "metadata": {},
   "outputs": [
    {
     "data": {
      "text/plain": [
       "[1, 1, 4, 2, 1, 1, 0, 0]"
      ]
     },
     "execution_count": 59,
     "metadata": {},
     "output_type": "execute_result"
    }
   ],
   "source": [
    "temperatures = [73,74,75,71,69,72,76,73]\n",
    "dailyTemperatures(temperatures)\n",
    "    "
   ]
  },
  {
   "cell_type": "code",
   "execution_count": 60,
   "metadata": {},
   "outputs": [
    {
     "data": {
      "text/plain": [
       "[1, 1, 1, 0]"
      ]
     },
     "execution_count": 60,
     "metadata": {},
     "output_type": "execute_result"
    }
   ],
   "source": [
    "temperatures = [30, 40, 50, 60]\n",
    "dailyTemperatures(temperatures)"
   ]
  },
  {
   "cell_type": "code",
   "execution_count": 61,
   "metadata": {},
   "outputs": [
    {
     "data": {
      "text/plain": [
       "[1, 1, 0]"
      ]
     },
     "execution_count": 61,
     "metadata": {},
     "output_type": "execute_result"
    }
   ],
   "source": [
    "temperatures = [30, 60, 90]\n",
    "dailyTemperatures(temperatures)"
   ]
  }
 ],
 "metadata": {
  "kernelspec": {
   "display_name": "Python 3",
   "language": "python",
   "name": "python3"
  },
  "language_info": {
   "codemirror_mode": {
    "name": "ipython",
    "version": 3
   },
   "file_extension": ".py",
   "mimetype": "text/x-python",
   "name": "python",
   "nbconvert_exporter": "python",
   "pygments_lexer": "ipython3",
   "version": "3.11.5"
  }
 },
 "nbformat": 4,
 "nbformat_minor": 2
}
