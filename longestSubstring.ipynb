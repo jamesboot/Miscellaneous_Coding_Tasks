{
 "cells": [
  {
   "cell_type": "markdown",
   "metadata": {},
   "source": [
    "## Longest Substring\n",
    "\n",
    "Given a string `s`, find the length of the longest substring without repeating characters.\n",
    "\n",
    "#### Example 1:\n",
    "\n",
    "Input: `s = \"abcabcbb\"`\n",
    "\n",
    "Output: `3`\n",
    "\n",
    "Explanation: The answer is \"abc\", with the length of 3.\n",
    "\n",
    "#### Example 2:\n",
    "\n",
    "Input: `s = \"bbbbb\"`\n",
    "\n",
    "Output: `1`\n",
    "\n",
    "Explanation: The answer is \"b\", with the length of 1.\n",
    "\n",
    "#### Example 3:\n",
    "\n",
    "Input: `s = \"pwwkew\"`\n",
    "\n",
    "Output: `3`\n",
    "\n",
    "Explanation: \n",
    "- The answer is \"wke\", with the length of 3.\n",
    "- Notice that the answer must be a substring, \"pwke\" is a subsequence and not a substring."
   ]
  },
  {
   "cell_type": "code",
   "execution_count": 29,
   "metadata": {},
   "outputs": [],
   "source": [
    "def lengthOfLongestSubstring(s):\n",
    "\n",
    "    slist = list(s)\n",
    "    #print(len(slist))\n",
    "    \n",
    "    if len(slist) == 0:\n",
    "        return 0\n",
    "    else:\n",
    "        left = 0\n",
    "        right = 1\n",
    "        substr = []\n",
    "        lengths = []\n",
    "\n",
    "        while right < len(slist):\n",
    "            #print(left, right)\n",
    "            if slist[left] not in substr: \n",
    "                substr.append(slist[left])\n",
    "                #print(left, right)\n",
    "            elif slist[right] not in substr:\n",
    "                substr.append(slist[right])\n",
    "                right += 1\n",
    "                #print(left, right)\n",
    "            elif slist[right] in substr:\n",
    "                left += 1\n",
    "                right = left + 1\n",
    "                lengths.append(len(substr))\n",
    "                #print(substr, lengths)\n",
    "                substr = []\n",
    "            #print(substr, lengths)\n",
    "\n",
    "        return max(lengths)\n",
    "        "
   ]
  },
  {
   "cell_type": "code",
   "execution_count": 28,
   "metadata": {},
   "outputs": [
    {
     "data": {
      "text/plain": [
       "3"
      ]
     },
     "execution_count": 28,
     "metadata": {},
     "output_type": "execute_result"
    }
   ],
   "source": [
    "s = 'pwwkew'\n",
    "lengthOfLongestSubstring(s)"
   ]
  },
  {
   "cell_type": "code",
   "execution_count": 31,
   "metadata": {},
   "outputs": [
    {
     "data": {
      "text/plain": [
       "1"
      ]
     },
     "execution_count": 31,
     "metadata": {},
     "output_type": "execute_result"
    }
   ],
   "source": [
    "s=' '\n",
    "len(list(s))"
   ]
  }
 ],
 "metadata": {
  "kernelspec": {
   "display_name": "base",
   "language": "python",
   "name": "python3"
  },
  "language_info": {
   "codemirror_mode": {
    "name": "ipython",
    "version": 3
   },
   "file_extension": ".py",
   "mimetype": "text/x-python",
   "name": "python",
   "nbconvert_exporter": "python",
   "pygments_lexer": "ipython3",
   "version": "3.11.7"
  }
 },
 "nbformat": 4,
 "nbformat_minor": 2
}
