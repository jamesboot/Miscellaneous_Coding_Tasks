{
 "cells": [
  {
   "cell_type": "markdown",
   "metadata": {},
   "source": [
    "## Caesar Cipher\n",
    "\n",
    "Julius Caesar protected his confidential information by encrypting it using a cipher. Caesar's cipher shifts each letter by a number of letters. If the shift takes you past the end of the alphabet, just rotate back to the front of the alphabet. \n",
    "\n",
    "In the case of a rotation by 3, w, x, y and z would map to z, a, b and c.\n",
    "\n",
    "Function Description\n",
    "\n",
    "Complete the caesarCipher function in the editor below.\n",
    "\n",
    "caesarCipher has the following parameter(s):\n",
    "- string s: cleartext\n",
    "- int k: the alphabet rotation factor\n",
    "\n",
    "Note: The cipher only encrypts letters; symbols, such as -, remain unencrypted.\n",
    "\n",
    "#### Example\n",
    "\n",
    "Input:\n",
    "```\n",
    "11\n",
    "middle-Outz\n",
    "2\n",
    "```\n",
    "Output:\n",
    "```\n",
    "okffng-Qwvb\n",
    "```\n",
    "Explanation:\n",
    "```\n",
    "Original alphabet:      abcdefghijklmnopqrstuvwxyz\n",
    "Alphabet rotated +2:    cdefghijklmnopqrstuvwxyzab\n",
    "```\n"
   ]
  },
  {
   "cell_type": "code",
   "execution_count": 45,
   "metadata": {},
   "outputs": [],
   "source": [
    "def caesarCipher(s,k):\n",
    "    \n",
    "    def rotate(vector):\n",
    "        vector.append(vector[0])\n",
    "        vector.pop(0)\n",
    "    \n",
    "    abet = list('abcdefghijklmnopqrstuvwxyz')\n",
    "    newabet = abet.copy()\n",
    "\n",
    "    while k > 0:\n",
    "        rotate(newabet)\n",
    "        k -= 1\n",
    "\n",
    "    abetUp = list(''.join(abet).upper())\n",
    "    newabetUp = list(''.join(newabet).upper())\n",
    "\n",
    "    abetDict = abet+abetUp\n",
    "    newabetDict = newabet+newabetUp\n",
    "\n",
    "    cipher = {abetDict[i] : newabetDict[i] for i in range(len(abetDict))}\n",
    "\n",
    "    input = list(s)\n",
    "    output = []\n",
    "\n",
    "    for i in range(len(input)):\n",
    "        if input[i] in cipher.keys():\n",
    "            output.append(cipher[input[i]])\n",
    "        else:\n",
    "            output.append(input[i])\n",
    "            continue\n",
    "\n",
    "    return ''.join(output)"
   ]
  },
  {
   "cell_type": "code",
   "execution_count": 46,
   "metadata": {},
   "outputs": [
    {
     "data": {
      "text/plain": [
       "'fff.jkl.gh'"
      ]
     },
     "execution_count": 46,
     "metadata": {},
     "output_type": "execute_result"
    }
   ],
   "source": [
    "string = 'www.abc.xy'\n",
    "factor = 87\n",
    "caesarCipher(s = string, k = factor)"
   ]
  }
 ],
 "metadata": {
  "kernelspec": {
   "display_name": "Python 3",
   "language": "python",
   "name": "python3"
  },
  "language_info": {
   "codemirror_mode": {
    "name": "ipython",
    "version": 3
   },
   "file_extension": ".py",
   "mimetype": "text/x-python",
   "name": "python",
   "nbconvert_exporter": "python",
   "pygments_lexer": "ipython3",
   "version": "3.11.5"
  }
 },
 "nbformat": 4,
 "nbformat_minor": 2
}
