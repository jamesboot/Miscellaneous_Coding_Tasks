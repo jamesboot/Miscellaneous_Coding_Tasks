{
 "cells": [
  {
   "cell_type": "markdown",
   "metadata": {},
   "source": [
    "## Add Two Numbers\n",
    "\n",
    "https://leetcode.com/problems/add-two-numbers/description/\n",
    "\n",
    "You are given two non-empty linked lists representing two non-negative integers. The digits are stored in reverse order, and each of their nodes contains a single digit. Add the two numbers and return the sum as a linked list.\n",
    "\n",
    "You may assume the two numbers do not contain any leading zero, except the number 0 itself.\n",
    "\n",
    "#### Example 1\n",
    "Input: `l1 = [2,4,3], l2 = [5,6,4]`\n",
    "\n",
    "Output: `[7,0,8]`\n",
    "\n",
    "Explanation: `342 + 465 = 807.`\n",
    "\n",
    "#### Example 2\n",
    "Input: `l1 = [0], l2 = [0]`\n",
    "\n",
    "Output: `[0]`\n",
    "\n",
    "#### Example 3\n",
    "Input: `l1 = [9,9,9,9,9,9,9], l2 = [9,9,9,9]`\n",
    "\n",
    "Output: `[8,9,9,9,0,0,0,1]`\n"
   ]
  },
  {
   "cell_type": "code",
   "execution_count": 32,
   "metadata": {},
   "outputs": [],
   "source": [
    "def addTwoNumbers(l1, l2):\n",
    "\n",
    "    # First reverse the two lists\n",
    "    l1.reverse()\n",
    "    l2.reverse()\n",
    "    #print(l1, l2)\n",
    "\n",
    "    # Convert to strings\n",
    "    l1str = [str(i) for i in l1]\n",
    "    l2str = [str(i) for i in l2]\n",
    "    #print(l1str, l2str)\n",
    "\n",
    "    # Join and convert to integers \n",
    "    n1 = int((''.join(l1str)))\n",
    "    n2 = int((''.join(l2str)))\n",
    "    #print(n1, n2)\n",
    "\n",
    "    # Add together\n",
    "    n3 = n1 + n2\n",
    "    #print(n3)\n",
    "\n",
    "    # Convert back to string\n",
    "    n3str = str(n3)\n",
    "    #print(n3str)\n",
    "\n",
    "    # Inverse string and unpack\n",
    "    n3strls = [*n3str[::-1]]\n",
    "    \n",
    "    # Return as integers\n",
    "    return [int(i) for i in n3strls]"
   ]
  },
  {
   "cell_type": "code",
   "execution_count": 33,
   "metadata": {},
   "outputs": [
    {
     "data": {
      "text/plain": [
       "[7, 0, 8]"
      ]
     },
     "execution_count": 33,
     "metadata": {},
     "output_type": "execute_result"
    }
   ],
   "source": [
    "l1 = [2,4,3]\n",
    "l2 = [5,6,4]\n",
    "addTwoNumbers(l1, l2)"
   ]
  },
  {
   "cell_type": "code",
   "execution_count": 34,
   "metadata": {},
   "outputs": [
    {
     "data": {
      "text/plain": [
       "[0]"
      ]
     },
     "execution_count": 34,
     "metadata": {},
     "output_type": "execute_result"
    }
   ],
   "source": [
    "l1 = [0]\n",
    "l2 = [0]\n",
    "addTwoNumbers(l1, l2)"
   ]
  },
  {
   "cell_type": "code",
   "execution_count": 35,
   "metadata": {},
   "outputs": [
    {
     "data": {
      "text/plain": [
       "[8, 9, 9, 9, 0, 0, 0, 1]"
      ]
     },
     "execution_count": 35,
     "metadata": {},
     "output_type": "execute_result"
    }
   ],
   "source": [
    "l1 = [9,9,9,9,9,9,9]\n",
    "l2 = [9,9,9,9]\n",
    "addTwoNumbers(l1, l2)"
   ]
  }
 ],
 "metadata": {
  "kernelspec": {
   "display_name": "Python 3",
   "language": "python",
   "name": "python3"
  },
  "language_info": {
   "codemirror_mode": {
    "name": "ipython",
    "version": 3
   },
   "file_extension": ".py",
   "mimetype": "text/x-python",
   "name": "python",
   "nbconvert_exporter": "python",
   "pygments_lexer": "ipython3",
   "version": "3.11.5"
  }
 },
 "nbformat": 4,
 "nbformat_minor": 2
}
