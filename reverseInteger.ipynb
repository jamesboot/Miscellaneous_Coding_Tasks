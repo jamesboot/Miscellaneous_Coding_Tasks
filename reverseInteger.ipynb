{
 "cells": [
  {
   "cell_type": "markdown",
   "metadata": {},
   "source": [
    "## Reverse Integer \n",
    "Given a signed 32-bit integer x, return x with its digits reversed. If reversing x causes the value to go outside the signed 32-bit integer range [-231, 231 - 1], then return 0.\n",
    "\n",
    "#### Example 1:\n",
    "Input: `x = 123`\n",
    "\n",
    "Output: `321`\n",
    "\n",
    "#### Example 2:\n",
    "Input: `x = -123`\n",
    "\n",
    "Output: `-321`\n",
    "\n",
    "#### Example 3:\n",
    "Input: `x = 120`\n",
    "\n",
    "Output: `21`\n"
   ]
  },
  {
   "cell_type": "code",
   "execution_count": 12,
   "metadata": {},
   "outputs": [],
   "source": [
    "def reverse(x):\n",
    "    s = list(str(x))\n",
    "    #print(s)\n",
    "\n",
    "    if s[0] == '-':\n",
    "        s.pop(0)\n",
    "        s.reverse()\n",
    "        if s[0] == 0:\n",
    "            s.pop(0)\n",
    "            s.insert(0, '-')\n",
    "            #print(int(''.join(s)))\n",
    "            if int(''.join(s)) < (-2**31): \n",
    "                return 0\n",
    "            else:\n",
    "                return int(''.join(s))\n",
    "        else:\n",
    "            s.insert(0, '-')\n",
    "            #print(int(''.join(s)))\n",
    "            if int(''.join(s)) < (-2**31): \n",
    "                return 0\n",
    "            else:\n",
    "                return int(''.join(s))\n",
    "    else:\n",
    "        s.reverse()\n",
    "        if s[0] == 0:\n",
    "            s.pop(0)\n",
    "            #print(int(''.join(s)))\n",
    "            if int(''.join(s)) > ((2**31)-1):\n",
    "                return 0\n",
    "            else:\n",
    "                return int(''.join(s))\n",
    "        else:\n",
    "            #print(int(''.join(s)))\n",
    "            if int(''.join(s)) > ((2**31)-1):\n",
    "                return 0\n",
    "            else:\n",
    "                return int(''.join(s))"
   ]
  },
  {
   "cell_type": "code",
   "execution_count": 13,
   "metadata": {},
   "outputs": [
    {
     "data": {
      "text/plain": [
       "0"
      ]
     },
     "execution_count": 13,
     "metadata": {},
     "output_type": "execute_result"
    }
   ],
   "source": [
    "x = 1534236469\n",
    "reverse(x)"
   ]
  }
 ],
 "metadata": {
  "kernelspec": {
   "display_name": "Python 3",
   "language": "python",
   "name": "python3"
  },
  "language_info": {
   "codemirror_mode": {
    "name": "ipython",
    "version": 3
   },
   "file_extension": ".py",
   "mimetype": "text/x-python",
   "name": "python",
   "nbconvert_exporter": "python",
   "pygments_lexer": "ipython3",
   "version": "3.11.5"
  }
 },
 "nbformat": 4,
 "nbformat_minor": 2
}
