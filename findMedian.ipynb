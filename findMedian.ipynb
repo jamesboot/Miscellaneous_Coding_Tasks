{
 "cells": [
  {
   "cell_type": "markdown",
   "metadata": {},
   "source": [
    "## Find the Median\n",
    "\n",
    "From HackerRank\n",
    "\n",
    "The median of a list of numbers is essentially its middle element after sorting. The same number of elements occur after it as bbefore. Given a list of numbers with an odd number of elements find the median.\n",
    "\n",
    "#### Example\n",
    "\n",
    "Input: `arr = [5,3,1,2,4]`\n",
    "\n",
    "Output: `3`"
   ]
  },
  {
   "cell_type": "code",
   "execution_count": 5,
   "metadata": {},
   "outputs": [],
   "source": [
    "def findMedian(arr):\n",
    "    arr.sort()\n",
    "    midIndex = int((len(arr)-1)/2)\n",
    "    return arr[midIndex]"
   ]
  },
  {
   "cell_type": "code",
   "execution_count": 6,
   "metadata": {},
   "outputs": [
    {
     "data": {
      "text/plain": [
       "3"
      ]
     },
     "execution_count": 6,
     "metadata": {},
     "output_type": "execute_result"
    }
   ],
   "source": [
    "findMedian([5,3,1,2,4])"
   ]
  }
 ],
 "metadata": {
  "kernelspec": {
   "display_name": "Python 3",
   "language": "python",
   "name": "python3"
  },
  "language_info": {
   "codemirror_mode": {
    "name": "ipython",
    "version": 3
   },
   "file_extension": ".py",
   "mimetype": "text/x-python",
   "name": "python",
   "nbconvert_exporter": "python",
   "pygments_lexer": "ipython3",
   "version": "3.11.5"
  }
 },
 "nbformat": 4,
 "nbformat_minor": 2
}
