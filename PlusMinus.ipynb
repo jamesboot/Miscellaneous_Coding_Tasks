{
 "cells": [
  {
   "cell_type": "markdown",
   "metadata": {},
   "source": [
    "## Plus Minus\n",
    "\n",
    "From HackerRank\n",
    "\n",
    "Given an array of integers, calculate the ratios of its elements that are positive, negative, and zero. Print the decimal value of each fraction on a new line with  places after the decimal.\n",
    "\n",
    "#### Example:\n",
    "\n",
    "`arr = [1,1,0,-1,-1]`\n",
    "\n",
    "There are  elements, two positive, two negative and one zero. Their ratios are `2/5` , `2/5` and `1/5`. Results are printed as:\n",
    "```\n",
    "0.400000\n",
    "0.400000\n",
    "0.200000\n",
    "```"
   ]
  },
  {
   "cell_type": "code",
   "execution_count": 11,
   "metadata": {},
   "outputs": [],
   "source": [
    "def plusMinus(arr):\n",
    "    arrSize = len(arr)\n",
    "    pos = 0\n",
    "    neg = 0\n",
    "    zero = 0\n",
    "    for x in arr:\n",
    "        if x < 0:\n",
    "            neg += 1\n",
    "        elif x == 0:\n",
    "            zero += 1\n",
    "        elif x > 0:\n",
    "            pos += 1\n",
    "    posdec = pos/arrSize\n",
    "    negdec = neg/arrSize\n",
    "    zerodec = zero/arrSize\n",
    "    print(\"{:.6f}\".format(posdec))\n",
    "    print(\"{:.6f}\".format(negdec))\n",
    "    print(\"{:.6f}\".format(zerodec))\n",
    "\n",
    "        "
   ]
  },
  {
   "cell_type": "code",
   "execution_count": 12,
   "metadata": {},
   "outputs": [
    {
     "name": "stdout",
     "output_type": "stream",
     "text": [
      "0.400000\n",
      "0.400000\n",
      "0.200000\n"
     ]
    }
   ],
   "source": [
    "array = [1,1,0,-1,-1]\n",
    "plusMinus(array)"
   ]
  }
 ],
 "metadata": {
  "kernelspec": {
   "display_name": "Python 3",
   "language": "python",
   "name": "python3"
  },
  "language_info": {
   "codemirror_mode": {
    "name": "ipython",
    "version": 3
   },
   "file_extension": ".py",
   "mimetype": "text/x-python",
   "name": "python",
   "nbconvert_exporter": "python",
   "pygments_lexer": "ipython3",
   "version": "3.11.5"
  }
 },
 "nbformat": 4,
 "nbformat_minor": 2
}
