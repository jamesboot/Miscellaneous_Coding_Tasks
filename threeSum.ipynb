{
 "cells": [
  {
   "cell_type": "markdown",
   "metadata": {},
   "source": [
    "## 3 Sum\n",
    "\n",
    "Given an integer array nums, return all the triplets `[nums[i], nums[j], nums[k]]` such that `i != j`, `i != k`, and `j != k`, and `nums[i] + nums[j] + nums[k] == 0`.\n",
    "\n",
    "Notice that the solution set must not contain duplicate triplets.\n",
    "\n",
    "#### Example 1:\n",
    "\n",
    "Input: `nums = [-1,0,1,2,-1,-4]`\n",
    "\n",
    "Output: `[[-1,-1,2],[-1,0,1]]`\n",
    "\n",
    "Explanation: \n",
    "\n",
    "`nums[0] + nums[1] + nums[2] = (-1) + 0 + 1 = 0`\n",
    "\n",
    "`nums[1] + nums[2] + nums[4] = 0 + 1 + (-1) = 0`\n",
    "\n",
    "`nums[0] + nums[3] + nums[4] = (-1) + 2 + (-1) = 0`\n",
    "\n",
    "The distinct triplets are `[-1,0,1]` and `[-1,-1,2]`.\n",
    "\n",
    "Notice that the order of the output and the order of the triplets does not matter."
   ]
  },
  {
   "cell_type": "code",
   "execution_count": 14,
   "metadata": {},
   "outputs": [
    {
     "name": "stdout",
     "output_type": "stream",
     "text": [
      "[(-1, 0, 1), (-1, -1, 2)]\n"
     ]
    }
   ],
   "source": [
    "nums = [-1,0,1,2,-1,-4]\n",
    "target = 0\n",
    "\n",
    "results = set()\n",
    "nums.sort()\n",
    "\n",
    "for i in range(len(nums)):\n",
    "    j = i+1\n",
    "    k = len(nums)-1\n",
    "    while j < k:\n",
    "        if nums[i] + nums[j] + nums[k] == 0:\n",
    "            results.add((nums[i], nums[j], nums[k]))\n",
    "            j += 1\n",
    "            k -= 1\n",
    "        elif nums[i] + nums[j] + nums[k] > 0:\n",
    "            k -= 1\n",
    "        elif nums[i] + nums[j] + nums[k] < 0:\n",
    "            j += 1\n",
    "\n",
    "print(list(results))"
   ]
  }
 ],
 "metadata": {
  "kernelspec": {
   "display_name": "Python 3",
   "language": "python",
   "name": "python3"
  },
  "language_info": {
   "codemirror_mode": {
    "name": "ipython",
    "version": 3
   },
   "file_extension": ".py",
   "mimetype": "text/x-python",
   "name": "python",
   "nbconvert_exporter": "python",
   "pygments_lexer": "ipython3",
   "version": "3.11.5"
  }
 },
 "nbformat": 4,
 "nbformat_minor": 2
}
