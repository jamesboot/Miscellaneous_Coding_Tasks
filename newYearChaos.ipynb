{
 "cells": [
  {
   "cell_type": "markdown",
   "metadata": {},
   "source": [
    "## New Year Chaos\n",
    "\n",
    "It is New Year's Day and people are in line for the Wonderland rollercoaster ride. Each person wears a sticker indicating their initial position in the queue from `1` to `n`. Any person can bribe the person directly in front of them to swap positions, but they still wear their original sticker. One person can bribe at most two others.\n",
    "\n",
    "Determine the minimum number of bribes that took place to get to a given queue order. Print the number of bribes, or, if anyone has bribed more than two people, print Too chaotic.\n",
    "\n",
    "#### Example\n",
    "```\n",
    "q = [1,2,3,4,5,6,7,8]\n",
    "```\n",
    "If person 5 bribes person 4, the queue will look like:\n",
    "```\n",
    "q = [1,2,3,5,4,6,7,8]\n",
    "```\n",
    "Person 5 bribed 1 person, print 1.\n",
    "\n",
    "#### Example\n",
    "```\n",
    "q = [4,1,2,3]\n",
    "```\n",
    "Person 4 has bribed 3 people. Print Too chaotic.\n",
    "\n",
    "#### Instructions\n",
    "\n",
    "Complete the function minimumBribes in the editor below.\n",
    "\n",
    "minimumBribes has the following parameter(s):\n",
    "\n",
    "int q[n]: the positions of the people after all bribes\n"
   ]
  },
  {
   "cell_type": "code",
   "execution_count": 39,
   "metadata": {},
   "outputs": [],
   "source": [
    "def minimumBribes(q):\n",
    "    \n",
    "    pre = q.copy()\n",
    "    pre.sort()\n",
    "    print(pre)\n",
    "    print(q)\n",
    "\n",
    "    difs = [postx - prey for postx, prey in zip(q, pre)]\n",
    "    print(difs)\n",
    "\n",
    "    chaosCheck = [i>=3 for i in difs]\n",
    "\n",
    "    if sum(chaosCheck) >= 1:\n",
    "        print('Too chaotic')\n",
    "    else:\n",
    "        print(sum([i for i in difs if i > 0]))"
   ]
  },
  {
   "cell_type": "code",
   "execution_count": 40,
   "metadata": {},
   "outputs": [
    {
     "name": "stdout",
     "output_type": "stream",
     "text": [
      "[1, 2, 3, 4, 5, 6, 7, 8]\n",
      "[1, 2, 5, 3, 7, 8, 6, 4]\n",
      "[0, 0, 2, -1, 2, 2, -1, -4]\n",
      "6\n"
     ]
    }
   ],
   "source": [
    "test1 = [2,1,5,3,4] # Expected outcome = 3\n",
    "test2 = [2,5,1,3,4] # Expected outcome = Too chaotic\n",
    "test3 = [1,2,3,5,4,6,7,8] # Expected outcome = 1\n",
    "test4 = [4,1,2,3] # Expected outcome = Too chaotic\n",
    "test5 = [5,1,2,3,7,8,6,4] # Expected outcome = Too chaotic\n",
    "test6 = [1,2,5,3,7,8,6,4] # Expected outcome = 7 - ERROR I GET 6\n",
    "\n",
    "minimumBribes(test6)\n"
   ]
  },
  {
   "cell_type": "markdown",
   "metadata": {},
   "source": []
  }
 ],
 "metadata": {
  "kernelspec": {
   "display_name": "Python 3",
   "language": "python",
   "name": "python3"
  },
  "language_info": {
   "codemirror_mode": {
    "name": "ipython",
    "version": 3
   },
   "file_extension": ".py",
   "mimetype": "text/x-python",
   "name": "python",
   "nbconvert_exporter": "python",
   "pygments_lexer": "ipython3",
   "version": "3.11.5"
  }
 },
 "nbformat": 4,
 "nbformat_minor": 2
}
