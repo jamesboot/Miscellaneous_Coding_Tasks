{
 "cells": [
  {
   "cell_type": "markdown",
   "metadata": {},
   "source": [
    "## Palindrome Number\n",
    "Given an integer x, return true if x is a palindrome, and false otherwise.\n",
    "\n",
    "### Example 1:\n",
    "- Input: x = 121\n",
    "- Output: true\n",
    "- Explanation: 121 reads as 121 from left to right and from right to left.\n",
    "\n",
    "### Example 2:\n",
    "- Input: x = -121\n",
    "- Output: false\n",
    "- Explanation: From left to right, it reads -121. From right to left, it becomes 121-. Therefore it is not a palindrome.\n",
    "\n",
    "### Example 3:\n",
    "- Input: x = 10\n",
    "- Output: false\n",
    "- Explanation: Reads 01 from right to left. Therefore it is not a palindrome."
   ]
  },
  {
   "cell_type": "code",
   "execution_count": 7,
   "metadata": {},
   "outputs": [],
   "source": [
    "def isPalindrome(x):\n",
    "    \n",
    "    s = list(str(x))\n",
    "    srev = list(s)\n",
    "    srev.reverse()\n",
    "    print(s)\n",
    "    print(srev)\n",
    "\n",
    "    if s == srev:\n",
    "        return True\n",
    "    else:\n",
    "        return False\n"
   ]
  },
  {
   "cell_type": "code",
   "execution_count": 8,
   "metadata": {},
   "outputs": [
    {
     "name": "stdout",
     "output_type": "stream",
     "text": [
      "['-', '1', '2', '1']\n",
      "['1', '2', '1', '-']\n"
     ]
    },
    {
     "data": {
      "text/plain": [
       "False"
      ]
     },
     "execution_count": 8,
     "metadata": {},
     "output_type": "execute_result"
    }
   ],
   "source": [
    "x = -121\n",
    "isPalindrome(x)"
   ]
  }
 ],
 "metadata": {
  "kernelspec": {
   "display_name": "Python 3",
   "language": "python",
   "name": "python3"
  },
  "language_info": {
   "codemirror_mode": {
    "name": "ipython",
    "version": 3
   },
   "file_extension": ".py",
   "mimetype": "text/x-python",
   "name": "python",
   "nbconvert_exporter": "python",
   "pygments_lexer": "ipython3",
   "version": "3.11.5"
  }
 },
 "nbformat": 4,
 "nbformat_minor": 2
}
