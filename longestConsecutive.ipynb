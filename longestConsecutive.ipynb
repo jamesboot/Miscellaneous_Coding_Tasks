{
 "cells": [
  {
   "cell_type": "markdown",
   "metadata": {},
   "source": [
    "## Longest Consecutive Sequence\n",
    "\n",
    "Given an unsorted array of integers `nums`, return the length of the longest consecutive elements sequence.\n",
    "\n",
    "You must write an algorithm that runs in `O(n)` time.\n",
    "\n",
    "#### Example 1:\n",
    "\n",
    "Input: `nums = [100,4,200,1,3,2]`\n",
    "\n",
    "Output: `4`\n",
    "\n",
    "Explanation: The longest consecutive elements sequence is `[1, 2, 3, 4]`. Therefore its length is `4`.\n",
    "\n",
    "#### Example 2:\n",
    "\n",
    "Input: `nums = [0,3,7,2,5,8,4,6,0,1]`\n",
    "\n",
    "Output: `9`\n"
   ]
  },
  {
   "cell_type": "code",
   "execution_count": 34,
   "metadata": {},
   "outputs": [],
   "source": [
    "def longestConsecutive(nums):\n",
    "    results = []\n",
    "    nums.sort()\n",
    "    count = 1\n",
    "    for i in range(len(nums)-1):\n",
    "        if nums[i+1] == nums[i]+1:\n",
    "            count += 1\n",
    "            continue\n",
    "        elif nums[i+1] != nums[i]+1:\n",
    "            results.append(count)\n",
    "            count = 1\n",
    "            continue\n",
    "    results.append(count)\n",
    "    return max(results)"
   ]
  },
  {
   "cell_type": "code",
   "execution_count": 35,
   "metadata": {},
   "outputs": [
    {
     "data": {
      "text/plain": [
       "4"
      ]
     },
     "execution_count": 35,
     "metadata": {},
     "output_type": "execute_result"
    }
   ],
   "source": [
    "nums = [100, 4, 200, 1, 3, 2]\n",
    "longestConsecutive(nums)"
   ]
  },
  {
   "cell_type": "code",
   "execution_count": 36,
   "metadata": {},
   "outputs": [
    {
     "data": {
      "text/plain": [
       "9"
      ]
     },
     "execution_count": 36,
     "metadata": {},
     "output_type": "execute_result"
    }
   ],
   "source": [
    "nums = [0,3,7,2,5,8,4,6,0,1]\n",
    "longestConsecutive(nums)"
   ]
  }
 ],
 "metadata": {
  "kernelspec": {
   "display_name": "Python 3",
   "language": "python",
   "name": "python3"
  },
  "language_info": {
   "codemirror_mode": {
    "name": "ipython",
    "version": 3
   },
   "file_extension": ".py",
   "mimetype": "text/x-python",
   "name": "python",
   "nbconvert_exporter": "python",
   "pygments_lexer": "ipython3",
   "version": "3.11.5"
  }
 },
 "nbformat": 4,
 "nbformat_minor": 2
}
