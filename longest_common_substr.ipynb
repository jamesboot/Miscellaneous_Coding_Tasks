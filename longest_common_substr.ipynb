{
 "cells": [
  {
   "cell_type": "markdown",
   "metadata": {},
   "source": [
    "## Longest common substring\n",
    "\n",
    "Write a function that takes two sequences and returns the longest common substring. A substring is a contiguous portion of a string. \n",
    "\n",
    "### Examples:\n",
    "\n",
    "'ATGC', 'ATGCA' returns 'ATGC'\n",
    "\n",
    "'GATGCCATGCA', 'ATGCC' returns 'ATGCC'\n",
    "\n",
    "'ACGTGGAAAGCCA', 'GTACACACGTTTTGAGAGACAC' returns 'ACGT'"
   ]
  },
  {
   "cell_type": "code",
   "execution_count": 25,
   "metadata": {},
   "outputs": [],
   "source": [
    "def longest_common_substring(s1, s2):\n",
    "    s1substr = []\n",
    "    for i in range(len(s1)):\n",
    "        for x in range(len(s1)):\n",
    "            x += 1\n",
    "            s1substr.append(s1[i:x])\n",
    "\n",
    "    s2substr = []\n",
    "    for i in range(len(s2)):\n",
    "        for x in range(len(s2)):\n",
    "            x += 1\n",
    "            s2substr.append(s2[i:x])\n",
    "            \n",
    "    results = set(s1substr) & set(s2substr)\n",
    "    return max(results, key=len)"
   ]
  },
  {
   "cell_type": "markdown",
   "metadata": {},
   "source": [
    "Test function below"
   ]
  },
  {
   "cell_type": "code",
   "execution_count": 27,
   "metadata": {},
   "outputs": [
    {
     "data": {
      "text/plain": [
       "'ATGC'"
      ]
     },
     "execution_count": 27,
     "metadata": {},
     "output_type": "execute_result"
    }
   ],
   "source": [
    "s1 = 'ATGC'\n",
    "s2 = 'ATGCA'\n",
    "\n",
    "longest_common_substring(s1, s2)"
   ]
  },
  {
   "cell_type": "code",
   "execution_count": 28,
   "metadata": {},
   "outputs": [
    {
     "data": {
      "text/plain": [
       "'ATGCC'"
      ]
     },
     "execution_count": 28,
     "metadata": {},
     "output_type": "execute_result"
    }
   ],
   "source": [
    "s1 = 'GATGCCATGCA'\n",
    "s2 = 'ATGCC'\n",
    "longest_common_substring(s1, s2)"
   ]
  },
  {
   "cell_type": "code",
   "execution_count": 29,
   "metadata": {},
   "outputs": [
    {
     "data": {
      "text/plain": [
       "'ACGT'"
      ]
     },
     "execution_count": 29,
     "metadata": {},
     "output_type": "execute_result"
    }
   ],
   "source": [
    "s1 = 'ACGTGGAAAGCCA'\n",
    "s2 = 'GTACACACGTTTTGAGAGACAC'\n",
    "longest_common_substring(s1, s2)"
   ]
  }
 ],
 "metadata": {
  "kernelspec": {
   "display_name": "Python 3",
   "language": "python",
   "name": "python3"
  },
  "language_info": {
   "codemirror_mode": {
    "name": "ipython",
    "version": 3
   },
   "file_extension": ".py",
   "mimetype": "text/x-python",
   "name": "python",
   "nbconvert_exporter": "python",
   "pygments_lexer": "ipython3",
   "version": "3.11.5"
  }
 },
 "nbformat": 4,
 "nbformat_minor": 2
}
