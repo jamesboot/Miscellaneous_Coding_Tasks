{
 "cells": [
  {
   "cell_type": "markdown",
   "metadata": {},
   "source": [
    "## Digit Sum\n",
    "\n",
    "We define super digit of an integer `x` using the following rules:\n",
    "- Given an integer, we need to find the super digit of the integer.\n",
    "- If `x` has only 1 digit, then its super digit is `x`.\n",
    "- Otherwise, the super digit of `x` is equal to the super digit of the sum of the digits of `x`\n",
    "\n",
    "#### Example\n",
    "The super digit of 9875 will be calculated as:\n",
    "```\n",
    "super_digit(9875)   \t9+8+7+5 = 29 \n",
    "super_digit(29) \t    2 + 9 = 11\n",
    "super_digit(11)\t\t    1 + 1 = 2\n",
    "super_digit(2)\t\t    = 2  \n",
    "```\n",
    "\n",
    "#### Further example\n",
    "```\n",
    "n = '9875'\n",
    "k = 4\n",
    "```\n",
    "The number `p` is created by concatenating the string `n`, `k` times.\n",
    "\n",
    "`p = 9875987598759875`\n",
    "\n",
    "All the digits of `p` sum to 116.\n",
    "All the digits of 116 sum to 8.\n",
    "8 is only 1 digit so it is the super digit.\n",
    "\n",
    "#### Instructions\n",
    "- Complete the function superDigit in the editor below. \n",
    "- It must return the calculated super digit as an integer.\n",
    "- superDigit has the following parameter(s):\n",
    "- string n: a string representation of an integer\n",
    "- int k: the times to concatenate  to make \n"
   ]
  },
  {
   "cell_type": "code",
   "execution_count": 28,
   "metadata": {},
   "outputs": [],
   "source": [
    "def superDigit(n, k):\n",
    "    \n",
    "    concat = list(n*k)\n",
    "    digits = len(concat)\n",
    "    #print(concat)\n",
    "    #print(digits)\n",
    "    \n",
    "    if digits == 1:\n",
    "        return n\n",
    "    else:\n",
    "        while digits > 1: \n",
    "            concat = [int(i) for i in concat]\n",
    "            n = sum(concat)\n",
    "            digits = len(list(str(n)))\n",
    "            #print('Sum is:', n, 'Digits are:', digits)\n",
    "            concat = list(str(n))\n",
    "        \n",
    "    return n\n"
   ]
  },
  {
   "cell_type": "code",
   "execution_count": 35,
   "metadata": {},
   "outputs": [
    {
     "name": "stdout",
     "output_type": "stream",
     "text": [
      "['1', '2', '3', '1', '2', '3', '1', '2', '3']\n",
      "9\n",
      "Sum is: 18 Digits are: 2\n",
      "Sum is: 9 Digits are: 1\n"
     ]
    },
    {
     "data": {
      "text/plain": [
       "9"
      ]
     },
     "execution_count": 35,
     "metadata": {},
     "output_type": "execute_result"
    }
   ],
   "source": [
    "n = '123'\n",
    "k = 3\n",
    "superDigit(n, k)"
   ]
  },
  {
   "cell_type": "code",
   "execution_count": 36,
   "metadata": {},
   "outputs": [
    {
     "name": "stdout",
     "output_type": "stream",
     "text": [
      "['9', '8', '7', '5', '9', '8', '7', '5', '9', '8', '7', '5', '9', '8', '7', '5']\n",
      "16\n",
      "Sum is: 116 Digits are: 3\n",
      "Sum is: 8 Digits are: 1\n"
     ]
    },
    {
     "data": {
      "text/plain": [
       "8"
      ]
     },
     "execution_count": 36,
     "metadata": {},
     "output_type": "execute_result"
    }
   ],
   "source": [
    "n = '9875'\n",
    "k = 4\n",
    "superDigit(n, k)"
   ]
  },
  {
   "cell_type": "code",
   "execution_count": 39,
   "metadata": {},
   "outputs": [],
   "source": [
    "## The above solution times out - a bit of reading found this is the real solution\n",
    "\n",
    "def superDigit(n, k):\n",
    "        \n",
    "    # check single digits\n",
    "    if k == len(n) == 1:\n",
    "        return int(n)\n",
    "\n",
    "    res = 0\n",
    "    for num in n:\n",
    "        res += int(num)\n",
    "        print(res)\n",
    "\n",
    "    return superDigit(str(res*k),1)\n"
   ]
  },
  {
   "cell_type": "code",
   "execution_count": 41,
   "metadata": {},
   "outputs": [
    {
     "name": "stdout",
     "output_type": "stream",
     "text": [
      "9\n",
      "17\n",
      "24\n",
      "29\n",
      "1\n",
      "2\n",
      "8\n"
     ]
    },
    {
     "data": {
      "text/plain": [
       "8"
      ]
     },
     "execution_count": 41,
     "metadata": {},
     "output_type": "execute_result"
    }
   ],
   "source": [
    "n = '9875'\n",
    "k = 4\n",
    "superDigit(n, k)"
   ]
  }
 ],
 "metadata": {
  "kernelspec": {
   "display_name": "Python 3",
   "language": "python",
   "name": "python3"
  },
  "language_info": {
   "codemirror_mode": {
    "name": "ipython",
    "version": 3
   },
   "file_extension": ".py",
   "mimetype": "text/x-python",
   "name": "python",
   "nbconvert_exporter": "python",
   "pygments_lexer": "ipython3",
   "version": "3.11.5"
  }
 },
 "nbformat": 4,
 "nbformat_minor": 2
}
