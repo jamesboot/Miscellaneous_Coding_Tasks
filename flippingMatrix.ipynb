{
 "cells": [
  {
   "cell_type": "markdown",
   "metadata": {},
   "source": [
    "## Flipping the matrix"
   ]
  },
  {
   "cell_type": "code",
   "execution_count": 21,
   "metadata": {},
   "outputs": [],
   "source": [
    "def flippingMatrix(array):\n",
    "\n",
    "    # Get the length of array - call it n\n",
    "    n = int(len(array)/2)\n",
    "\n",
    "    # Get the range for top left quadrant - needed for later \n",
    "    quad = list(range(n))\n",
    "\n",
    "    maxvals = []\n",
    "\n",
    "    # Nested for loop to go through all i and j options\n",
    "    for i in quad:\n",
    "        for j in quad:\n",
    "            # Get i,j value and all its counterparts - find the max of them all - value 1\n",
    "            # Each value will have 3 counterparts - their locations can be defined using the functions below\n",
    "            maxvals.append(max([array[i][j],\n",
    "                                array[i][2*n-1-j],\n",
    "                                array[2*n-1-i][j],\n",
    "                                array[2*n-1-i][2*n-1-j]]))\n",
    "\n",
    "    return sum(maxvals)\n"
   ]
  },
  {
   "cell_type": "code",
   "execution_count": 22,
   "metadata": {},
   "outputs": [
    {
     "data": {
      "text/plain": [
       "414"
      ]
     },
     "execution_count": 22,
     "metadata": {},
     "output_type": "execute_result"
    }
   ],
   "source": [
    "test = [[112,42,83,119],\n",
    "         [56,125,56,49],\n",
    "         [15,78,101,43],\n",
    "         [62,98,114,108 ]]\n",
    "\n",
    "flippingMatrix(array=test)"
   ]
  }
 ],
 "metadata": {
  "kernelspec": {
   "display_name": "Python 3",
   "language": "python",
   "name": "python3"
  },
  "language_info": {
   "codemirror_mode": {
    "name": "ipython",
    "version": 3
   },
   "file_extension": ".py",
   "mimetype": "text/x-python",
   "name": "python",
   "nbconvert_exporter": "python",
   "pygments_lexer": "ipython3",
   "version": "3.11.5"
  }
 },
 "nbformat": 4,
 "nbformat_minor": 2
}
