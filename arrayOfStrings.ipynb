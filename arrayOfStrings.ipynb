{
 "cells": [
  {
   "cell_type": "code",
   "execution_count": 24,
   "metadata": {},
   "outputs": [
    {
     "data": {
      "text/plain": [
       "3"
      ]
     },
     "execution_count": 24,
     "metadata": {},
     "output_type": "execute_result"
    }
   ],
   "source": [
    "# Given an array of strings, find distance between the closest pair of entries\n",
    "# If no dduplicate strings, return -1\n",
    "\n",
    "# Example - answer = 3 because second and third instances of no are 3 positions apart\n",
    "example1 = ['all', 'work', 'and', 'no', 'play', 'makes', 'for', 'no', 'fun', 'and', 'no', 'results']\n",
    "\n",
    "def distConsecString(input):\n",
    "\n",
    "    # Make empty list for distance values to go in\n",
    "    dist = []\n",
    "\n",
    "    # Enumerate the input\n",
    "    for itr in input:\n",
    "        \n",
    "        # Return index of all matching strings\n",
    "        indices = [count for count, value in enumerate(input) if value == itr]\n",
    "\n",
    "        # If length of indices is greater than 1 calculate differences\n",
    "        if(len(indices) > 1):\n",
    "            for x in range(len(indices) - 1):\n",
    "                dist.append(indices[x + 1] - indices[x])\n",
    "\n",
    "    if len(dist) > 0:\n",
    "        return(min(dist))\n",
    "    else:\n",
    "        return(-1)\n",
    "\n",
    "distConsecString(input = example1)"
   ]
  },
  {
   "cell_type": "code",
   "execution_count": 25,
   "metadata": {},
   "outputs": [
    {
     "data": {
      "text/plain": [
       "-1"
      ]
     },
     "execution_count": 25,
     "metadata": {},
     "output_type": "execute_result"
    }
   ],
   "source": [
    "# Run another example - answer should be -1\n",
    "example2 = ['ai', 'in', 'the', 'service', 'of', 'science']\n",
    "distConsecString(input = example2)"
   ]
  },
  {
   "cell_type": "code",
   "execution_count": 26,
   "metadata": {},
   "outputs": [
    {
     "data": {
      "text/plain": [
       "2"
      ]
     },
     "execution_count": 26,
     "metadata": {},
     "output_type": "execute_result"
    }
   ],
   "source": [
    "# Another - answer should be 2\n",
    "example3 = ['all', 'for', 'one', 'and', 'one', 'for', 'all']\n",
    "distConsecString(input = example3)"
   ]
  }
 ],
 "metadata": {
  "kernelspec": {
   "display_name": "Python 3",
   "language": "python",
   "name": "python3"
  },
  "language_info": {
   "codemirror_mode": {
    "name": "ipython",
    "version": 3
   },
   "file_extension": ".py",
   "mimetype": "text/x-python",
   "name": "python",
   "nbconvert_exporter": "python",
   "pygments_lexer": "ipython3",
   "version": "3.11.5"
  }
 },
 "nbformat": 4,
 "nbformat_minor": 2
}
