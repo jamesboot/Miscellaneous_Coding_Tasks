{
 "cells": [
  {
   "cell_type": "markdown",
   "metadata": {},
   "source": [
    "## Longest palindromic substring\n",
    "\n",
    "Given a string `s`, return the longest palindromic substring in `s`.\n",
    "\n",
    "### Example 1:\n",
    "\n",
    "Input: `s = \"babad\"`\n",
    "\n",
    "Output: `\"bab\"`\n",
    "\n",
    "Explanation: \"aba\" is also a valid answer.\n",
    "\n",
    "### Example 2:\n",
    "\n",
    "Input: `s = \"cbbd\"`\n",
    "Output: `\"bb\"`"
   ]
  },
  {
   "cell_type": "code",
   "execution_count": 22,
   "metadata": {},
   "outputs": [],
   "source": [
    "def longestPalindrome(s):\n",
    "    pos = 0\n",
    "    nextpos = 1\n",
    "    results = []\n",
    "\n",
    "    for x in range(len(s)):\n",
    "        pos = x\n",
    "        nextpos = pos + 1\n",
    "        while nextpos <= len(s):\n",
    "            substr = s[pos:nextpos]\n",
    "            if substr == substr[::-1]:\n",
    "                results.append(substr)\n",
    "                nextpos += 1\n",
    "            else:\n",
    "                nextpos += 1\n",
    "\n",
    "    return max(results, key=len)"
   ]
  },
  {
   "cell_type": "code",
   "execution_count": 24,
   "metadata": {},
   "outputs": [
    {
     "name": "stdout",
     "output_type": "stream",
     "text": [
      "bab\n",
      "bb\n"
     ]
    }
   ],
   "source": [
    "s = \"babad\"\n",
    "print(longestPalindrome(s))\n",
    "s = \"cbbd\"\n",
    "print(longestPalindrome(s))"
   ]
  }
 ],
 "metadata": {
  "kernelspec": {
   "display_name": "Python 3",
   "language": "python",
   "name": "python3"
  },
  "language_info": {
   "codemirror_mode": {
    "name": "ipython",
    "version": 3
   },
   "file_extension": ".py",
   "mimetype": "text/x-python",
   "name": "python",
   "nbconvert_exporter": "python",
   "pygments_lexer": "ipython3",
   "version": "3.11.5"
  }
 },
 "nbformat": 4,
 "nbformat_minor": 2
}
