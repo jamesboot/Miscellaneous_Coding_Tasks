{
 "cells": [
  {
   "cell_type": "markdown",
   "metadata": {},
   "source": [
    "# Median of Two Sorted Arrays\n",
    "Given two sorted arrays nums1 and nums2 of size m and n respectively, return the median of the two sorted arrays."
   ]
  },
  {
   "cell_type": "code",
   "execution_count": 25,
   "metadata": {},
   "outputs": [],
   "source": [
    "def median2arrays(array1, array2):\n",
    "\n",
    "    nums3 = array1 + array2\n",
    "\n",
    "    nums3.sort()\n",
    "\n",
    "    if (len(nums3) % 2 == 0):\n",
    "        index1 = len(nums3)//2\n",
    "        index2 = index1 - 1\n",
    "        val = (nums3[index1] + nums3[index2])/2\n",
    "        return(val)\n",
    "    else:\n",
    "        index = len(nums3)//2\n",
    "        return(nums3[index])"
   ]
  },
  {
   "cell_type": "code",
   "execution_count": 28,
   "metadata": {},
   "outputs": [
    {
     "data": {
      "text/plain": [
       "3"
      ]
     },
     "execution_count": 28,
     "metadata": {},
     "output_type": "execute_result"
    }
   ],
   "source": [
    "nums1 = [1, 3]\n",
    "nums2 = [2, 4, 5]\n",
    "\n",
    "median2arrays(array1 = nums1, array2 = nums2)"
   ]
  }
 ],
 "metadata": {
  "kernelspec": {
   "display_name": "Python 3",
   "language": "python",
   "name": "python3"
  },
  "language_info": {
   "codemirror_mode": {
    "name": "ipython",
    "version": 3
   },
   "file_extension": ".py",
   "mimetype": "text/x-python",
   "name": "python",
   "nbconvert_exporter": "python",
   "pygments_lexer": "ipython3",
   "version": "3.11.5"
  }
 },
 "nbformat": 4,
 "nbformat_minor": 2
}
