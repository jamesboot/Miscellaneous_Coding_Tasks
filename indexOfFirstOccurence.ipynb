{
 "cells": [
  {
   "cell_type": "markdown",
   "metadata": {},
   "source": [
    "## Find the Index of the First Occurence in a String\n",
    "\n",
    "Given two strings `needle` and `haystack`, return the index of the first occurrence of `needle` in `haystack`, or `-1` if needle is not part of haystack.\n",
    "\n",
    "#### Example 1:\n",
    "\n",
    "Input: `haystack = \"sadbutsad\", needle = \"sad\"`\n",
    "\n",
    "Output: `0`\n",
    "\n",
    "Explanation: \n",
    "- \"sad\" occurs at index 0 and 6.\n",
    "- The first occurrence is at index 0, so we return 0.\n",
    "\n",
    "#### Example 2:\n",
    "\n",
    "Input: `haystack = \"leetcode\", needle = \"leeto\"`\n",
    "\n",
    "Output: `-1`\n",
    "\n",
    "Explanation: \n",
    "- \"leeto\" did not occur in \"leetcode\", so we return -1.\n"
   ]
  },
  {
   "cell_type": "code",
   "execution_count": 13,
   "metadata": {},
   "outputs": [],
   "source": [
    "def strStr (haystack, needle):\n",
    "\n",
    "    haystackList = list(haystack)\n",
    "    needleList = list(needle)\n",
    "    \n",
    "    if haystackList == needleList:\n",
    "        return 0\n",
    "    else:        \n",
    "        start = 0\n",
    "        end = len(needleList)\n",
    "        print(start, end)\n",
    "\n",
    "        while end <= len(haystackList):\n",
    "            if haystackList[start:end] == needleList:\n",
    "                return start\n",
    "            elif haystackList[start:end] != needleList:\n",
    "                start += 1\n",
    "                end += 1\n",
    "\n",
    "        return -1\n",
    "\n"
   ]
  },
  {
   "cell_type": "code",
   "execution_count": 14,
   "metadata": {},
   "outputs": [
    {
     "name": "stdout",
     "output_type": "stream",
     "text": [
      "0 1\n"
     ]
    },
    {
     "data": {
      "text/plain": [
       "2"
      ]
     },
     "execution_count": 14,
     "metadata": {},
     "output_type": "execute_result"
    }
   ],
   "source": [
    "haystack = \"abc\"\n",
    "needle = \"c\"\n",
    "strStr(haystack, needle)"
   ]
  }
 ],
 "metadata": {
  "kernelspec": {
   "display_name": "base",
   "language": "python",
   "name": "python3"
  },
  "language_info": {
   "codemirror_mode": {
    "name": "ipython",
    "version": 3
   },
   "file_extension": ".py",
   "mimetype": "text/x-python",
   "name": "python",
   "nbconvert_exporter": "python",
   "pygments_lexer": "ipython3",
   "version": "3.11.7"
  }
 },
 "nbformat": 4,
 "nbformat_minor": 2
}
