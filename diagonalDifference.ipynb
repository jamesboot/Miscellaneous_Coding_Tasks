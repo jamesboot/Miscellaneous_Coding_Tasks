{
 "cells": [
  {
   "cell_type": "markdown",
   "metadata": {},
   "source": [
    "## Diagonal Difference\n",
    "\n",
    "From HackerRank\n",
    "\n",
    "Given a square matrix, calculate the absolute difference between the sums of its diagonals.\n",
    "For example, the square matrix `arr` is shown below:\n",
    "\n",
    "```\n",
    "123\n",
    "456\n",
    "989\n",
    "```\n",
    "\n",
    "The left to right diagonal is `1+5+9=15`. The right to left diagonal is `3+5+9=17`. Their absolute difference is `15-17=2`.\n",
    "\n",
    "#### Input\n",
    "\n",
    "The first line contains a single integer, which is the number of rows and columns in the square matrix. Each of the next lines describes a row and consists of integers.\n",
    "\n",
    "#### Sample Input\n",
    "\n",
    "```\n",
    "[[3],\n",
    "[11,2,4],\n",
    "[4,5,6],\n",
    "[10,8,-12]]\n",
    "```\n",
    "\n",
    "Primary diagonal is `11+5+-12=4`\n",
    "\n",
    "Secondary diagonal is `4+5+10=19`\n",
    "\n",
    "Difference = `4-19=15`"
   ]
  },
  {
   "cell_type": "code",
   "execution_count": 39,
   "metadata": {},
   "outputs": [],
   "source": [
    "def diagonalDifference(arr):\n",
    "\n",
    "    arrayPointers = list(range(0, len(arr)))\n",
    "    diag1Pointers = list(range(0, len(arr)))\n",
    "    diag2Pointers = diag1Pointers.copy()\n",
    "    diag2Pointers.reverse()\n",
    "    \n",
    "    diag1 = []\n",
    "    diag2 = []\n",
    "\n",
    "    for i in range(len(arrayPointers)):\n",
    "        diag1.append(arr[arrayPointers[i]][diag1Pointers[i]])\n",
    "        diag2.append(arr[arrayPointers[i]][diag2Pointers[i]])\n",
    "\n",
    "    return abs(sum(diag1)-sum(diag2))\n"
   ]
  },
  {
   "cell_type": "code",
   "execution_count": 40,
   "metadata": {},
   "outputs": [
    {
     "name": "stdout",
     "output_type": "stream",
     "text": [
      "[0, 1, 2]\n",
      "[0, 1, 2]\n",
      "[2, 1, 0]\n"
     ]
    },
    {
     "data": {
      "text/plain": [
       "15"
      ]
     },
     "execution_count": 40,
     "metadata": {},
     "output_type": "execute_result"
    }
   ],
   "source": [
    "input = [\n",
    "[11,2,4],\n",
    "[4,5,6],\n",
    "[10,8,-12]]\n",
    "\n",
    "diagonalDifference(input)"
   ]
  }
 ],
 "metadata": {
  "kernelspec": {
   "display_name": "Python 3",
   "language": "python",
   "name": "python3"
  },
  "language_info": {
   "codemirror_mode": {
    "name": "ipython",
    "version": 3
   },
   "file_extension": ".py",
   "mimetype": "text/x-python",
   "name": "python",
   "nbconvert_exporter": "python",
   "pygments_lexer": "ipython3",
   "version": "3.11.5"
  }
 },
 "nbformat": 4,
 "nbformat_minor": 2
}
