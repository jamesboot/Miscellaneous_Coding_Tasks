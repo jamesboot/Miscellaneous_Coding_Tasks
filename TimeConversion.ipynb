{
 "cells": [
  {
   "cell_type": "markdown",
   "metadata": {},
   "source": [
    "## Time Conversion\n",
    "\n",
    "Given a time in -hour AM/PM format, convert it to military (24-hour) time.\n",
    "Note: \n",
    "- 12:00:00AM on a 12-hour clock is 00:00:00 on a 24-hour clock. \n",
    "- 12:00:00PM on a 12-hour clock is 12:00:00 on a 24-hour clock.\n",
    "\n",
    "#### Example\n",
    "\n",
    "`s = '12:01:00PM'`\n",
    "Return `'12:01:00'`.\n",
    "\n",
    "`s = '12:01:00AM'`\n",
    "Return `'00:01:00'`."
   ]
  },
  {
   "cell_type": "code",
   "execution_count": 37,
   "metadata": {},
   "outputs": [],
   "source": [
    "def timeConversion(s):\n",
    "    lookup = {'01':'13',\n",
    "              '02':'14',\n",
    "              '03':'15',\n",
    "              '04':'16',\n",
    "              '05':'17',\n",
    "              '06':'18',\n",
    "              '07':'19',\n",
    "              '08':'20',\n",
    "              '09':'21',\n",
    "              '10':'22',\n",
    "              '11':'23',\n",
    "              '12':'00'}\n",
    "    AMorPM = s[-2:]\n",
    "    timeNums = s[0:8].split(':')\n",
    "    if AMorPM == 'AM' and timeNums[0] != '12':\n",
    "        return ':'.join(timeNums)\n",
    "    elif AMorPM == 'AM' and timeNums[0] == '12':\n",
    "        timeNums[0] = lookup[timeNums[0]]\n",
    "        return ':'.join(timeNums)\n",
    "    elif AMorPM == 'PM' and timeNums[0] != '12':\n",
    "        timeNums[0] = lookup[timeNums[0]]\n",
    "        return ':'.join(timeNums)\n",
    "    elif AMorPM == 'PM' and timeNums[0] == '12':\n",
    "        return ':'.join(timeNums)\n",
    "    "
   ]
  },
  {
   "cell_type": "code",
   "execution_count": 38,
   "metadata": {},
   "outputs": [
    {
     "data": {
      "text/plain": [
       "'12:45:54'"
      ]
     },
     "execution_count": 38,
     "metadata": {},
     "output_type": "execute_result"
    }
   ],
   "source": [
    "timeConversion('12:45:54PM')"
   ]
  }
 ],
 "metadata": {
  "kernelspec": {
   "display_name": "Python 3",
   "language": "python",
   "name": "python3"
  },
  "language_info": {
   "codemirror_mode": {
    "name": "ipython",
    "version": 3
   },
   "file_extension": ".py",
   "mimetype": "text/x-python",
   "name": "python",
   "nbconvert_exporter": "python",
   "pygments_lexer": "ipython3",
   "version": "3.11.5"
  }
 },
 "nbformat": 4,
 "nbformat_minor": 2
}
