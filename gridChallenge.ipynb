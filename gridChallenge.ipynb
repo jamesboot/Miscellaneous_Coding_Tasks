{
 "cells": [
  {
   "cell_type": "markdown",
   "metadata": {},
   "source": [
    "## Grid Challenge\n",
    "\n",
    "Given a square grid of characters in the range ascii[a-z], rearrange elements of each row alphabetically, ascending. Determine if the columns are also in ascending alphabetical order, top to bottom. Return YES if they are or NO if they are not.\n",
    "\n",
    "#### Example\n",
    "```\n",
    "grid = ['abc','ade','efg']\n",
    "```\n",
    "The rows are already in alphabetical order. The columns a a e, b d f and c e g are also in alphabetical order, so the answer would be YES. Only elements within the same row can be rearranged. They cannot be moved to a different row.\n",
    "\n",
    "Complete the gridChallenge function in the editor below.\n",
    "gridChallenge has the following parameter(s):\n",
    "- string grid[n]: an array of strings"
   ]
  },
  {
   "cell_type": "code",
   "execution_count": 63,
   "metadata": {},
   "outputs": [],
   "source": [
    "def gridChallenge(grid):\n",
    "    \n",
    "    gridSort = [sorted(i) for i in grid]\n",
    "    #print(gridSort)\n",
    "\n",
    "    nrow = len(grid)\n",
    "    ncol = len(grid[0])\n",
    "    target = (nrow-1)*ncol\n",
    "    count = 0\n",
    "    #print(nrow)\n",
    "    #print(ncol)\n",
    "    #print(target)\n",
    "    \n",
    "    for i in range(ncol):\n",
    "        col = i\n",
    "        for j in range(nrow-1):\n",
    "            row = j\n",
    "            nextrow = j+1\n",
    "            #print(row, col, nextrow, col)\n",
    "            if gridSort[row][col] <= gridSort[nextrow][col]:\n",
    "                count += 1\n",
    "\n",
    "    if count == target:\n",
    "        return 'YES'\n",
    "    else:\n",
    "        return 'NO'"
   ]
  },
  {
   "cell_type": "code",
   "execution_count": 67,
   "metadata": {},
   "outputs": [
    {
     "data": {
      "text/plain": [
       "'YES'"
      ]
     },
     "execution_count": 67,
     "metadata": {},
     "output_type": "execute_result"
    }
   ],
   "source": [
    "# Expected outcome = YES\n",
    "grid = ['eabcd', 'fghij', 'olkmn', 'trpqs','xywuv']\n",
    "gridChallenge(grid)"
   ]
  },
  {
   "cell_type": "code",
   "execution_count": 66,
   "metadata": {},
   "outputs": [
    {
     "data": {
      "text/plain": [
       "'YES'"
      ]
     },
     "execution_count": 66,
     "metadata": {},
     "output_type": "execute_result"
    }
   ],
   "source": [
    "# Expected outcome = YES\n",
    "grid = ['kc', 'iu']\n",
    "gridChallenge(grid)"
   ]
  },
  {
   "cell_type": "code",
   "execution_count": 65,
   "metadata": {},
   "outputs": [
    {
     "data": {
      "text/plain": [
       "'NO'"
      ]
     },
     "execution_count": 65,
     "metadata": {},
     "output_type": "execute_result"
    }
   ],
   "source": [
    "# Expected outcome = NO\n",
    "grid = ['uxf', 'vof', 'hmp']\n",
    "gridChallenge(grid)"
   ]
  },
  {
   "cell_type": "code",
   "execution_count": 64,
   "metadata": {},
   "outputs": [
    {
     "data": {
      "text/plain": [
       "'YES'"
      ]
     },
     "execution_count": 64,
     "metadata": {},
     "output_type": "execute_result"
    }
   ],
   "source": [
    "# Expected outcome = YES\n",
    "grid = ['abc', 'hjk', 'mpq', 'rtv']\n",
    "gridChallenge(grid)"
   ]
  }
 ],
 "metadata": {
  "kernelspec": {
   "display_name": "Python 3",
   "language": "python",
   "name": "python3"
  },
  "language_info": {
   "codemirror_mode": {
    "name": "ipython",
    "version": 3
   },
   "file_extension": ".py",
   "mimetype": "text/x-python",
   "name": "python",
   "nbconvert_exporter": "python",
   "pygments_lexer": "ipython3",
   "version": "3.11.5"
  }
 },
 "nbformat": 4,
 "nbformat_minor": 2
}
