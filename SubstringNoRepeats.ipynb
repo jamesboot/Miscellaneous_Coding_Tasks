{
 "cells": [
  {
   "cell_type": "markdown",
   "metadata": {},
   "source": [
    "## Longest Substring Without Repeating Characters\n",
    "Given a string `s`, find the length of the longest substring without repeating characters.\n",
    "\n",
    "### Example 1:\n",
    "\n",
    "Input: `s = \"abcabcbb\"`\n",
    "\n",
    "Output: `3`\n",
    "\n",
    "Explanation: The answer is \"abc\", with the length of 3.\n",
    "\n",
    "### Example 2:\n",
    " \n",
    "Input: `s = \"bbbbb\"`\n",
    "\n",
    "Output: `1`\n",
    "\n",
    "Explanation: The answer is \"b\", with the length of 1.\n",
    "\n",
    "### Example 3:\n",
    "\n",
    "Input: `s = \"pwwkew\"`\n",
    "\n",
    "Output: `3`\n",
    "\n",
    "Explanation: The answer is \"wke\", with the length of 3.\n",
    "Notice that the answer must be a substring, \"pwke\" is a subsequence and not a substring."
   ]
  },
  {
   "cell_type": "code",
   "execution_count": 7,
   "metadata": {},
   "outputs": [],
   "source": [
    "def lengthOfLongestSubstring(s):\n",
    "    \n",
    "    # Make an empty set to put things in\n",
    "    char_set = set()\n",
    "    count = 0\n",
    "    position = 0\n",
    "    lengths = []\n",
    "    \n",
    "    while position < len(s):\n",
    "        if s[position] not in char_set:\n",
    "            char_set.add(s[position])\n",
    "            count += 1\n",
    "            position += 1\n",
    "        else:\n",
    "            lengths.append(count)\n",
    "            char_set = set()\n",
    "            char_set.add(s[position])\n",
    "            count = 1\n",
    "            position += 1\n",
    "            \n",
    "    return max(lengths)"
   ]
  },
  {
   "cell_type": "code",
   "execution_count": 10,
   "metadata": {},
   "outputs": [
    {
     "name": "stdout",
     "output_type": "stream",
     "text": [
      "3\n",
      "1\n",
      "3\n"
     ]
    }
   ],
   "source": [
    "s = 'abcabcbb'\n",
    "print(lengthOfLongestSubstring(s))\n",
    "s = 'bbbb'\n",
    "print(lengthOfLongestSubstring(s))\n",
    "s = 'pwwkew'\n",
    "print(lengthOfLongestSubstring(s))"
   ]
  }
 ],
 "metadata": {
  "kernelspec": {
   "display_name": "Python 3",
   "language": "python",
   "name": "python3"
  },
  "language_info": {
   "codemirror_mode": {
    "name": "ipython",
    "version": 3
   },
   "file_extension": ".py",
   "mimetype": "text/x-python",
   "name": "python",
   "nbconvert_exporter": "python",
   "pygments_lexer": "ipython3",
   "version": "3.11.5"
  }
 },
 "nbformat": 4,
 "nbformat_minor": 2
}
