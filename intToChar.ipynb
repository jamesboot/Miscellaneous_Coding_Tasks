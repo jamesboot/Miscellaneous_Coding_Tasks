{
 "cells": [
  {
   "cell_type": "code",
   "execution_count": 73,
   "metadata": {},
   "outputs": [
    {
     "data": {
      "text/plain": [
       "['one']"
      ]
     },
     "execution_count": 73,
     "metadata": {},
     "output_type": "execute_result"
    }
   ],
   "source": [
    "# Make a solution for 1 digit numbers \n",
    "def dig1(input):\n",
    "    \n",
    "    # Dictionary of single digits\n",
    "    Dict1 = {\n",
    "        0:None,\n",
    "        1:'one',\n",
    "        2:'two',\n",
    "        3:'three',\n",
    "        4:'four',\n",
    "        5:'five',\n",
    "        6:'six',\n",
    "        7:'seven',\n",
    "        8:'eight',\n",
    "        9:'nine'}\n",
    "    \n",
    "    return([Dict1[input]])\n",
    "\n",
    "example = 1\n",
    "dig1(example)    \n"
   ]
  },
  {
   "cell_type": "code",
   "execution_count": 93,
   "metadata": {},
   "outputs": [
    {
     "data": {
      "text/plain": [
       "['thirty']"
      ]
     },
     "execution_count": 93,
     "metadata": {},
     "output_type": "execute_result"
    }
   ],
   "source": [
    "# Make a solution for 2 digit numbers \n",
    "def dig2(input):\n",
    "    \n",
    "    # Dictionary of single digits\n",
    "    Dict1 = {\n",
    "        0:None,\n",
    "        1:'one',\n",
    "        2:'two',\n",
    "        3:'three',\n",
    "        4:'four',\n",
    "        5:'five',\n",
    "        6:'six',\n",
    "        7:'seven',\n",
    "        8:'eight',\n",
    "        9:'nine'}\n",
    "    \n",
    "    # Special cases\n",
    "    excepDict = {\n",
    "        10:'ten',\n",
    "        11:'eleven',\n",
    "        12:'twelve',\n",
    "        13:'thirteen',\n",
    "        14:'fourteen',\n",
    "        15:'fiveteen',\n",
    "        16:'sixteen',\n",
    "        17:'seventeen',\n",
    "        18:'eighteen',\n",
    "        19:'nineteen'}\n",
    "\n",
    "    # Dictionary for two digit numbers\n",
    "    Dict2 = {\n",
    "        0:None,\n",
    "        1:'ten',\n",
    "        2:'twenty',\n",
    "        3:'thirty',\n",
    "        4:'fourty',\n",
    "        5:'fifty',\n",
    "        6:'sixty',\n",
    "        7:'seventy',\n",
    "        8:'eighty',\n",
    "        9:'ninety'}\n",
    "    \n",
    "    # Rule 10-19 numbers\n",
    "    if input > 9 and input < 20:\n",
    "        return([excepDict[input]])\n",
    "\n",
    "    # Rule for remaining 2 digit numbers\n",
    "    if input > 19 and input < 100:\n",
    "        \n",
    "        # Extract numbers\n",
    "        numsList = list(str(input))\n",
    "        num1 = int(numsList[0])\n",
    "        num2 = int(numsList[1])\n",
    "        \n",
    "        # Return characters\n",
    "        res = [Dict2[num1], Dict1[num2]]\n",
    "        resFilt = [i for i in res if i is not None]\n",
    "        return(resFilt)\n",
    "\n",
    "example = 30\n",
    "dig2(example)"
   ]
  },
  {
   "cell_type": "code",
   "execution_count": 94,
   "metadata": {},
   "outputs": [
    {
     "data": {
      "text/plain": [
       "['five', 'hundred', 'and', 'thirty']"
      ]
     },
     "execution_count": 94,
     "metadata": {},
     "output_type": "execute_result"
    }
   ],
   "source": [
    "# Make a solution for 3 digit numbers\n",
    "\n",
    "# First a function to return the 'hundred' element\n",
    "def hundred(input):\n",
    "    \n",
    "    # Dictionary of single digits\n",
    "    Dict1 = {\n",
    "        0:None,\n",
    "        1:'one',\n",
    "        2:'two',\n",
    "        3:'three',\n",
    "        4:'four',\n",
    "        5:'five',\n",
    "        6:'six',\n",
    "        7:'seven',\n",
    "        8:'eight',\n",
    "        9:'nine'}\n",
    "    \n",
    "    return[Dict1[input], 'hundred']\n",
    "\n",
    "# Now use all functions to return a whole 3 digit number\n",
    "def dig3(input):\n",
    "    \n",
    "        # Extract numbers\n",
    "        numsList = list(str(input))\n",
    "        num1 = int(numsList[0])\n",
    "        num2 = int(numsList[1])\n",
    "        num3 = int(numsList[2])\n",
    "        \n",
    "        # For cases with round numbers such as 400, 500, 600\n",
    "        if (num3 == 0 and num2 == 0):\n",
    "            return(sum([hundred(num1)], []))\n",
    "            \n",
    "        # For cases with a 0 as the second digit such as 401, 701\n",
    "        if (num2 == 0 and num3 > 0):\n",
    "            return(sum([hundred(num1), ['and'], dig1(num3)], []))\n",
    "        \n",
    "        # For all other cases\n",
    "        else:\n",
    "            newnum = int(str(num2)+str(num3))\n",
    "            return(sum([hundred(num1), ['and'], dig2(newnum)], []))\n",
    "\n",
    "example = 530\n",
    "dig3(example)"
   ]
  },
  {
   "cell_type": "code",
   "execution_count": 106,
   "metadata": {},
   "outputs": [
    {
     "data": {
      "text/plain": [
       "['four', 'thousand', 'one', 'hundred', 'and', 'sixty']"
      ]
     },
     "execution_count": 106,
     "metadata": {},
     "output_type": "execute_result"
    }
   ],
   "source": [
    "# Make a solution for 4 digit numbers\n",
    "\n",
    "# First a function to return the 'thousand' element\n",
    "def thousand(input):\n",
    "    \n",
    "    # Dictionary of single digits\n",
    "    Dict1 = {\n",
    "        0:None,\n",
    "        1:'one',\n",
    "        2:'two',\n",
    "        3:'three',\n",
    "        4:'four',\n",
    "        5:'five',\n",
    "        6:'six',\n",
    "        7:'seven',\n",
    "        8:'eight',\n",
    "        9:'nine'}\n",
    "    \n",
    "    return[Dict1[input], 'thousand']\n",
    "\n",
    "# Now use all functions to return a whole 4 digit number\n",
    "def dig4(input):\n",
    "    \n",
    "        # Extract numbers\n",
    "        numsList = list(str(input))\n",
    "        num1 = int(numsList[0])\n",
    "        num2 = int(numsList[1])\n",
    "        num3 = int(numsList[2])\n",
    "        num4 = int(numsList[3])\n",
    "\n",
    "        # For cases with round numbers such as 4000\n",
    "        if (num4 == 0 and num3 == 0 and num2 == 0):\n",
    "            return(sum([thousand(num1)], []))\n",
    "        \n",
    "        # For cases where there is no hundred or ten value e.g. 4001\n",
    "        if (num4 > 0 and num3 == 0 and num2 == 0):\n",
    "            return(sum([thousand(num1), ['and'], dig1(num4)], []))\n",
    "        \n",
    "        # For cases where there is no hundred value e.g. 4011\n",
    "        if (num4 >= 0 and num3 > 0 and num2 == 0):\n",
    "            newnum = int(str(num3)+str(num4))\n",
    "            return(sum([thousand(num1), ['and'], dig2(newnum)], []))\n",
    "        \n",
    "        # For cases where there is a hundred value\n",
    "        if (num4 >= 0 and num3 >= 0 and num2 >= 0):\n",
    "            newnum = int(str(num2)+str(num3)+str(num4))\n",
    "            return(sum([thousand(num1), dig3(newnum)], []))\n",
    "        \n",
    "\n",
    "example = 4160\n",
    "dig4(example)\n",
    "\n"
   ]
  },
  {
   "cell_type": "code",
   "execution_count": 89,
   "metadata": {},
   "outputs": [
    {
     "ename": "TypeError",
     "evalue": "sequence item 4: expected str instance, NoneType found",
     "output_type": "error",
     "traceback": [
      "\u001b[0;31m---------------------------------------------------------------------------\u001b[0m",
      "\u001b[0;31mTypeError\u001b[0m                                 Traceback (most recent call last)",
      "Cell \u001b[0;32mIn[89], line 17\u001b[0m\n\u001b[1;32m     13\u001b[0m     \u001b[38;5;28;01mif\u001b[39;00m \u001b[38;5;28mlen\u001b[39m(\u001b[38;5;28mlist\u001b[39m(\u001b[38;5;28mstr\u001b[39m(\u001b[38;5;28minput\u001b[39m))) \u001b[38;5;241m==\u001b[39m \u001b[38;5;241m3\u001b[39m:\n\u001b[1;32m     14\u001b[0m         \u001b[38;5;28;01mreturn\u001b[39;00m(\u001b[38;5;28mprint\u001b[39m(\u001b[38;5;124m'\u001b[39m\u001b[38;5;124m \u001b[39m\u001b[38;5;124m'\u001b[39m\u001b[38;5;241m.\u001b[39mjoin(dig3(\u001b[38;5;28minput\u001b[39m))))\n\u001b[0;32m---> 17\u001b[0m \u001b[43msolution\u001b[49m\u001b[43m(\u001b[49m\u001b[38;5;241;43m530\u001b[39;49m\u001b[43m)\u001b[49m\n",
      "Cell \u001b[0;32mIn[89], line 14\u001b[0m, in \u001b[0;36msolution\u001b[0;34m(input)\u001b[0m\n\u001b[1;32m     12\u001b[0m \u001b[38;5;66;03m# 3 digit numbers\u001b[39;00m\n\u001b[1;32m     13\u001b[0m \u001b[38;5;28;01mif\u001b[39;00m \u001b[38;5;28mlen\u001b[39m(\u001b[38;5;28mlist\u001b[39m(\u001b[38;5;28mstr\u001b[39m(\u001b[38;5;28minput\u001b[39m))) \u001b[38;5;241m==\u001b[39m \u001b[38;5;241m3\u001b[39m:\n\u001b[0;32m---> 14\u001b[0m     \u001b[38;5;28;01mreturn\u001b[39;00m(\u001b[38;5;28mprint\u001b[39m(\u001b[38;5;124;43m'\u001b[39;49m\u001b[38;5;124;43m \u001b[39;49m\u001b[38;5;124;43m'\u001b[39;49m\u001b[38;5;241;43m.\u001b[39;49m\u001b[43mjoin\u001b[49m\u001b[43m(\u001b[49m\u001b[43mdig3\u001b[49m\u001b[43m(\u001b[49m\u001b[38;5;28;43minput\u001b[39;49m\u001b[43m)\u001b[49m\u001b[43m)\u001b[49m))\n",
      "\u001b[0;31mTypeError\u001b[0m: sequence item 4: expected str instance, NoneType found"
     ]
    }
   ],
   "source": [
    "# Use all the functions above together to create final solution\n",
    "def solution(input):\n",
    "    \n",
    "    # 1 digit numbers\n",
    "    if len(list(str(input))) == 1:\n",
    "        return(print(' '.join(dig1(input))))\n",
    "    \n",
    "    # 2 digit numbers\n",
    "    if len(list(str(input))) == 2:\n",
    "        return(print(' '.join(dig2(input))))\n",
    "    \n",
    "    # 3 digit numbers\n",
    "    if len(list(str(input))) == 3:\n",
    "        return(print(' '.join(dig3(input))))\n",
    "    \n",
    "\n",
    "solution(530)\n"
   ]
  }
 ],
 "metadata": {
  "kernelspec": {
   "display_name": "Python 3",
   "language": "python",
   "name": "python3"
  },
  "language_info": {
   "codemirror_mode": {
    "name": "ipython",
    "version": 3
   },
   "file_extension": ".py",
   "mimetype": "text/x-python",
   "name": "python",
   "nbconvert_exporter": "python",
   "pygments_lexer": "ipython3",
   "version": "3.11.5"
  }
 },
 "nbformat": 4,
 "nbformat_minor": 2
}
